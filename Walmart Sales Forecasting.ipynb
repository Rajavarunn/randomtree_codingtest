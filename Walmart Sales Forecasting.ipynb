{
 "cells": [
  {
   "cell_type": "markdown",
   "id": "57f287d0",
   "metadata": {},
   "source": [
    "# Walmart Sales Forecasting"
   ]
  },
  {
   "cell_type": "markdown",
   "id": "e8e08285",
   "metadata": {},
   "source": [
    "### Objective:\n",
    "#### The primary goal is to forecast the weekly sales of the store. Given the dataset's features encompassing size and time-related information, the aim is to examine how sales are influenced by time-based  and space-based factors."
   ]
  },
  {
   "cell_type": "markdown",
   "id": "2f3378cb",
   "metadata": {},
   "source": [
    "##### The use case originates from Kaggle, and the downloaded data can be accessed through this link: https://www.kaggle.com/datasets/aslanahmedov/walmart-sales-forecast. The source consists of four datasets, encompassing sales volume, features, train, and test data.\n"
   ]
  },
  {
   "cell_type": "code",
   "execution_count": 1,
   "id": "5fa5f4fc",
   "metadata": {},
   "outputs": [],
   "source": [
    "# importing packages \n",
    "import numpy as np      # To use np.arrays\n",
    "import pandas as pd     # To use dataframes\n",
    "from pandas.plotting import autocorrelation_plot as auto_corr\n",
    "\n",
    "# To plot\n",
    "import matplotlib.pyplot as plt  \n",
    "%matplotlib inline    \n",
    "import matplotlib as mpl\n",
    "import seaborn as sns\n",
    "\n",
    "#For date-time\n",
    "import math\n",
    "from datetime import datetime\n",
    "from datetime import timedelta\n",
    "\n",
    "from sklearn.model_selection import train_test_split\n",
    "from statsmodels.tsa.seasonal import seasonal_decompose as season\n",
    "from sklearn.metrics import mean_squared_error, mean_absolute_error\n",
    "from sklearn.metrics import accuracy_score, balanced_accuracy_score\n",
    "from sklearn.model_selection import cross_val_score\n",
    "from sklearn.pipeline import make_pipeline, Pipeline\n",
    "from sklearn.ensemble import RandomForestRegressor\n",
    "import xgboost as xgb\n",
    "from sklearn import metrics\n",
    "from sklearn.linear_model import LinearRegression \n",
    "from sklearn import preprocessing\n",
    "from statsmodels.tsa.holtwinters import ExponentialSmoothing\n",
    "\n",
    "from sklearn.metrics import mean_absolute_percentage_error,mean_absolute_error,mean_squared_error\n",
    "from math import sqrt\n",
    "\n",
    "\n",
    "import warnings\n",
    "warnings.filterwarnings(\"ignore\")\n",
    "\n",
    "max_date = pd.to_datetime(\"2013-02-01\")"
   ]
  },
  {
   "cell_type": "code",
   "execution_count": 2,
   "id": "ef134917",
   "metadata": {},
   "outputs": [],
   "source": [
    "path = \"C:/Users/RAJAVARUN/Desktop/Forecasting Analysis/archive/\""
   ]
  },
  {
   "cell_type": "code",
   "execution_count": 3,
   "id": "f8f1b3f5",
   "metadata": {},
   "outputs": [],
   "source": [
    "sales = pd.read_csv(path+\"train.csv\")\n",
    "stores = pd.read_csv(path+\"stores.csv\")\n",
    "features = pd.read_csv(path+\"features.csv\")\n",
    "test = pd.read_csv(path+\"test.csv\")"
   ]
  },
  {
   "cell_type": "code",
   "execution_count": 4,
   "id": "9085bd07",
   "metadata": {
    "scrolled": false
   },
   "outputs": [
    {
     "data": {
      "text/html": [
       "<div>\n",
       "<style scoped>\n",
       "    .dataframe tbody tr th:only-of-type {\n",
       "        vertical-align: middle;\n",
       "    }\n",
       "\n",
       "    .dataframe tbody tr th {\n",
       "        vertical-align: top;\n",
       "    }\n",
       "\n",
       "    .dataframe thead th {\n",
       "        text-align: right;\n",
       "    }\n",
       "</style>\n",
       "<table border=\"1\" class=\"dataframe\">\n",
       "  <thead>\n",
       "    <tr style=\"text-align: right;\">\n",
       "      <th></th>\n",
       "      <th>Store</th>\n",
       "      <th>Dept</th>\n",
       "      <th>Date</th>\n",
       "      <th>Weekly_Sales</th>\n",
       "      <th>IsHoliday</th>\n",
       "    </tr>\n",
       "  </thead>\n",
       "  <tbody>\n",
       "    <tr>\n",
       "      <th>0</th>\n",
       "      <td>1</td>\n",
       "      <td>1</td>\n",
       "      <td>2010-02-05</td>\n",
       "      <td>24924.50</td>\n",
       "      <td>False</td>\n",
       "    </tr>\n",
       "    <tr>\n",
       "      <th>1</th>\n",
       "      <td>1</td>\n",
       "      <td>1</td>\n",
       "      <td>2010-02-12</td>\n",
       "      <td>46039.49</td>\n",
       "      <td>True</td>\n",
       "    </tr>\n",
       "    <tr>\n",
       "      <th>2</th>\n",
       "      <td>1</td>\n",
       "      <td>1</td>\n",
       "      <td>2010-02-19</td>\n",
       "      <td>41595.55</td>\n",
       "      <td>False</td>\n",
       "    </tr>\n",
       "    <tr>\n",
       "      <th>3</th>\n",
       "      <td>1</td>\n",
       "      <td>1</td>\n",
       "      <td>2010-02-26</td>\n",
       "      <td>19403.54</td>\n",
       "      <td>False</td>\n",
       "    </tr>\n",
       "    <tr>\n",
       "      <th>4</th>\n",
       "      <td>1</td>\n",
       "      <td>1</td>\n",
       "      <td>2010-03-05</td>\n",
       "      <td>21827.90</td>\n",
       "      <td>False</td>\n",
       "    </tr>\n",
       "  </tbody>\n",
       "</table>\n",
       "</div>"
      ],
      "text/plain": [
       "   Store  Dept        Date  Weekly_Sales  IsHoliday\n",
       "0      1     1  2010-02-05      24924.50      False\n",
       "1      1     1  2010-02-12      46039.49       True\n",
       "2      1     1  2010-02-19      41595.55      False\n",
       "3      1     1  2010-02-26      19403.54      False\n",
       "4      1     1  2010-03-05      21827.90      False"
      ]
     },
     "execution_count": 4,
     "metadata": {},
     "output_type": "execute_result"
    }
   ],
   "source": [
    "sales.head()"
   ]
  },
  {
   "cell_type": "code",
   "execution_count": 5,
   "id": "1e57e1bb",
   "metadata": {},
   "outputs": [
    {
     "name": "stdout",
     "output_type": "stream",
     "text": [
      "45 81\n"
     ]
    }
   ],
   "source": [
    "print(sales[\"Store\"].nunique(),sales[\"Dept\"].nunique())"
   ]
  },
  {
   "cell_type": "code",
   "execution_count": 6,
   "id": "1ca7c4b2",
   "metadata": {},
   "outputs": [
    {
     "name": "stdout",
     "output_type": "stream",
     "text": [
      "2010-02-05 00:00:00 2012-10-26 00:00:00\n"
     ]
    }
   ],
   "source": [
    "sales[\"Date\"] = pd.to_datetime(sales[\"Date\"])\n",
    "print(sales[\"Date\"].min(),sales[\"Date\"].max())"
   ]
  },
  {
   "cell_type": "code",
   "execution_count": 7,
   "id": "caa93ebb",
   "metadata": {},
   "outputs": [
    {
     "name": "stdout",
     "output_type": "stream",
     "text": [
      "2010-02-05 00:00:00 2012-10-26 00:00:00\n"
     ]
    }
   ],
   "source": [
    "print(sales[\"Date\"].min(),sales[\"Date\"].max())"
   ]
  },
  {
   "cell_type": "code",
   "execution_count": 8,
   "id": "99af1f23",
   "metadata": {},
   "outputs": [
    {
     "data": {
      "text/html": [
       "<div>\n",
       "<style scoped>\n",
       "    .dataframe tbody tr th:only-of-type {\n",
       "        vertical-align: middle;\n",
       "    }\n",
       "\n",
       "    .dataframe tbody tr th {\n",
       "        vertical-align: top;\n",
       "    }\n",
       "\n",
       "    .dataframe thead th {\n",
       "        text-align: right;\n",
       "    }\n",
       "</style>\n",
       "<table border=\"1\" class=\"dataframe\">\n",
       "  <thead>\n",
       "    <tr style=\"text-align: right;\">\n",
       "      <th></th>\n",
       "      <th>Store</th>\n",
       "      <th>Dept</th>\n",
       "      <th>Weekly_Sales</th>\n",
       "    </tr>\n",
       "  </thead>\n",
       "  <tbody>\n",
       "    <tr>\n",
       "      <th>count</th>\n",
       "      <td>421570.000000</td>\n",
       "      <td>421570.000000</td>\n",
       "      <td>421570.000000</td>\n",
       "    </tr>\n",
       "    <tr>\n",
       "      <th>mean</th>\n",
       "      <td>22.200546</td>\n",
       "      <td>44.260317</td>\n",
       "      <td>15981.258123</td>\n",
       "    </tr>\n",
       "    <tr>\n",
       "      <th>std</th>\n",
       "      <td>12.785297</td>\n",
       "      <td>30.492054</td>\n",
       "      <td>22711.183519</td>\n",
       "    </tr>\n",
       "    <tr>\n",
       "      <th>min</th>\n",
       "      <td>1.000000</td>\n",
       "      <td>1.000000</td>\n",
       "      <td>-4988.940000</td>\n",
       "    </tr>\n",
       "    <tr>\n",
       "      <th>25%</th>\n",
       "      <td>11.000000</td>\n",
       "      <td>18.000000</td>\n",
       "      <td>2079.650000</td>\n",
       "    </tr>\n",
       "    <tr>\n",
       "      <th>50%</th>\n",
       "      <td>22.000000</td>\n",
       "      <td>37.000000</td>\n",
       "      <td>7612.030000</td>\n",
       "    </tr>\n",
       "    <tr>\n",
       "      <th>75%</th>\n",
       "      <td>33.000000</td>\n",
       "      <td>74.000000</td>\n",
       "      <td>20205.852500</td>\n",
       "    </tr>\n",
       "    <tr>\n",
       "      <th>max</th>\n",
       "      <td>45.000000</td>\n",
       "      <td>99.000000</td>\n",
       "      <td>693099.360000</td>\n",
       "    </tr>\n",
       "  </tbody>\n",
       "</table>\n",
       "</div>"
      ],
      "text/plain": [
       "               Store           Dept   Weekly_Sales\n",
       "count  421570.000000  421570.000000  421570.000000\n",
       "mean       22.200546      44.260317   15981.258123\n",
       "std        12.785297      30.492054   22711.183519\n",
       "min         1.000000       1.000000   -4988.940000\n",
       "25%        11.000000      18.000000    2079.650000\n",
       "50%        22.000000      37.000000    7612.030000\n",
       "75%        33.000000      74.000000   20205.852500\n",
       "max        45.000000      99.000000  693099.360000"
      ]
     },
     "execution_count": 8,
     "metadata": {},
     "output_type": "execute_result"
    }
   ],
   "source": [
    "sales.describe()"
   ]
  },
  {
   "cell_type": "code",
   "execution_count": 9,
   "id": "912e76af",
   "metadata": {},
   "outputs": [
    {
     "data": {
      "text/plain": [
       "(421570, 5)"
      ]
     },
     "execution_count": 9,
     "metadata": {},
     "output_type": "execute_result"
    }
   ],
   "source": [
    "sales.shape"
   ]
  },
  {
   "cell_type": "code",
   "execution_count": 10,
   "id": "5a986bbe",
   "metadata": {},
   "outputs": [],
   "source": [
    "sales = sales[sales[\"Weekly_Sales\"]>=0]"
   ]
  },
  {
   "cell_type": "code",
   "execution_count": 11,
   "id": "ccd3d0e8",
   "metadata": {
    "scrolled": false
   },
   "outputs": [
    {
     "data": {
      "text/html": [
       "<div>\n",
       "<style scoped>\n",
       "    .dataframe tbody tr th:only-of-type {\n",
       "        vertical-align: middle;\n",
       "    }\n",
       "\n",
       "    .dataframe tbody tr th {\n",
       "        vertical-align: top;\n",
       "    }\n",
       "\n",
       "    .dataframe thead th {\n",
       "        text-align: right;\n",
       "    }\n",
       "</style>\n",
       "<table border=\"1\" class=\"dataframe\">\n",
       "  <thead>\n",
       "    <tr style=\"text-align: right;\">\n",
       "      <th></th>\n",
       "      <th>Store</th>\n",
       "      <th>Dept</th>\n",
       "      <th>Weekly_Sales</th>\n",
       "    </tr>\n",
       "  </thead>\n",
       "  <tbody>\n",
       "    <tr>\n",
       "      <th>count</th>\n",
       "      <td>420285.000000</td>\n",
       "      <td>420285.000000</td>\n",
       "      <td>420285.000000</td>\n",
       "    </tr>\n",
       "    <tr>\n",
       "      <th>mean</th>\n",
       "      <td>22.195477</td>\n",
       "      <td>44.242771</td>\n",
       "      <td>16030.329773</td>\n",
       "    </tr>\n",
       "    <tr>\n",
       "      <th>std</th>\n",
       "      <td>12.787213</td>\n",
       "      <td>30.507197</td>\n",
       "      <td>22728.500149</td>\n",
       "    </tr>\n",
       "    <tr>\n",
       "      <th>min</th>\n",
       "      <td>1.000000</td>\n",
       "      <td>1.000000</td>\n",
       "      <td>0.000000</td>\n",
       "    </tr>\n",
       "    <tr>\n",
       "      <th>25%</th>\n",
       "      <td>11.000000</td>\n",
       "      <td>18.000000</td>\n",
       "      <td>2117.560000</td>\n",
       "    </tr>\n",
       "    <tr>\n",
       "      <th>50%</th>\n",
       "      <td>22.000000</td>\n",
       "      <td>37.000000</td>\n",
       "      <td>7659.090000</td>\n",
       "    </tr>\n",
       "    <tr>\n",
       "      <th>75%</th>\n",
       "      <td>33.000000</td>\n",
       "      <td>74.000000</td>\n",
       "      <td>20268.380000</td>\n",
       "    </tr>\n",
       "    <tr>\n",
       "      <th>max</th>\n",
       "      <td>45.000000</td>\n",
       "      <td>99.000000</td>\n",
       "      <td>693099.360000</td>\n",
       "    </tr>\n",
       "  </tbody>\n",
       "</table>\n",
       "</div>"
      ],
      "text/plain": [
       "               Store           Dept   Weekly_Sales\n",
       "count  420285.000000  420285.000000  420285.000000\n",
       "mean       22.195477      44.242771   16030.329773\n",
       "std        12.787213      30.507197   22728.500149\n",
       "min         1.000000       1.000000       0.000000\n",
       "25%        11.000000      18.000000    2117.560000\n",
       "50%        22.000000      37.000000    7659.090000\n",
       "75%        33.000000      74.000000   20268.380000\n",
       "max        45.000000      99.000000  693099.360000"
      ]
     },
     "execution_count": 11,
     "metadata": {},
     "output_type": "execute_result"
    }
   ],
   "source": [
    "sales.describe()"
   ]
  },
  {
   "cell_type": "code",
   "execution_count": 12,
   "id": "1d717395",
   "metadata": {
    "scrolled": true
   },
   "outputs": [
    {
     "data": {
      "text/html": [
       "<div>\n",
       "<style scoped>\n",
       "    .dataframe tbody tr th:only-of-type {\n",
       "        vertical-align: middle;\n",
       "    }\n",
       "\n",
       "    .dataframe tbody tr th {\n",
       "        vertical-align: top;\n",
       "    }\n",
       "\n",
       "    .dataframe thead th {\n",
       "        text-align: right;\n",
       "    }\n",
       "</style>\n",
       "<table border=\"1\" class=\"dataframe\">\n",
       "  <thead>\n",
       "    <tr style=\"text-align: right;\">\n",
       "      <th></th>\n",
       "      <th>Store</th>\n",
       "      <th>Dept</th>\n",
       "      <th>Date</th>\n",
       "      <th>IsHoliday</th>\n",
       "    </tr>\n",
       "  </thead>\n",
       "  <tbody>\n",
       "    <tr>\n",
       "      <th>0</th>\n",
       "      <td>1</td>\n",
       "      <td>1</td>\n",
       "      <td>2012-11-02</td>\n",
       "      <td>False</td>\n",
       "    </tr>\n",
       "    <tr>\n",
       "      <th>1</th>\n",
       "      <td>1</td>\n",
       "      <td>1</td>\n",
       "      <td>2012-11-09</td>\n",
       "      <td>False</td>\n",
       "    </tr>\n",
       "    <tr>\n",
       "      <th>2</th>\n",
       "      <td>1</td>\n",
       "      <td>1</td>\n",
       "      <td>2012-11-16</td>\n",
       "      <td>False</td>\n",
       "    </tr>\n",
       "    <tr>\n",
       "      <th>3</th>\n",
       "      <td>1</td>\n",
       "      <td>1</td>\n",
       "      <td>2012-11-23</td>\n",
       "      <td>True</td>\n",
       "    </tr>\n",
       "    <tr>\n",
       "      <th>4</th>\n",
       "      <td>1</td>\n",
       "      <td>1</td>\n",
       "      <td>2012-11-30</td>\n",
       "      <td>False</td>\n",
       "    </tr>\n",
       "  </tbody>\n",
       "</table>\n",
       "</div>"
      ],
      "text/plain": [
       "   Store  Dept        Date  IsHoliday\n",
       "0      1     1  2012-11-02      False\n",
       "1      1     1  2012-11-09      False\n",
       "2      1     1  2012-11-16      False\n",
       "3      1     1  2012-11-23       True\n",
       "4      1     1  2012-11-30      False"
      ]
     },
     "execution_count": 12,
     "metadata": {},
     "output_type": "execute_result"
    }
   ],
   "source": [
    "test.head()"
   ]
  },
  {
   "cell_type": "code",
   "execution_count": 13,
   "id": "30bfd47d",
   "metadata": {},
   "outputs": [],
   "source": [
    "sales = pd.concat([sales,test])\n",
    "sales[\"Date\"] = pd.to_datetime(sales[\"Date\"])"
   ]
  },
  {
   "cell_type": "code",
   "execution_count": 14,
   "id": "fd96101a",
   "metadata": {},
   "outputs": [],
   "source": [
    "# missing date imputation\n",
    "\n",
    "max_date = pd.to_datetime(\"2013-02-01\")\n",
    "imputed_df = pd.DataFrame()\n",
    "sales[\"ID\"] = sales[\"Store\"].astype(str)+\"-\"+sales[\"Dept\"].astype(str)\n",
    "\n",
    "for i in sales[\"ID\"].unique():\n",
    "    inner = sales[sales[\"ID\"]==i]\n",
    "    min_date = inner[\"Date\"].min()\n",
    "    date_series = pd.date_range(min_date,max_date,freq=\"W-FRI\")\n",
    "    date_df = pd.DataFrame({\"Date\":date_series})\n",
    "    merge_df = pd.merge(date_df,inner,how=\"left\",on=\"Date\")\n",
    "    merge_df.drop(\"ID\",axis=1,inplace=True)\n",
    "    imputed_df = pd.concat([imputed_df,merge_df])\n",
    "    imputed_df.fillna(0,inplace=True)\n",
    "    \n",
    "sales = imputed_df.copy(deep=True)"
   ]
  },
  {
   "cell_type": "code",
   "execution_count": 15,
   "id": "f877c719",
   "metadata": {},
   "outputs": [
    {
     "data": {
      "text/html": [
       "<div>\n",
       "<style scoped>\n",
       "    .dataframe tbody tr th:only-of-type {\n",
       "        vertical-align: middle;\n",
       "    }\n",
       "\n",
       "    .dataframe tbody tr th {\n",
       "        vertical-align: top;\n",
       "    }\n",
       "\n",
       "    .dataframe thead th {\n",
       "        text-align: right;\n",
       "    }\n",
       "</style>\n",
       "<table border=\"1\" class=\"dataframe\">\n",
       "  <thead>\n",
       "    <tr style=\"text-align: right;\">\n",
       "      <th></th>\n",
       "      <th>Date</th>\n",
       "      <th>Store</th>\n",
       "      <th>Dept</th>\n",
       "      <th>Weekly_Sales</th>\n",
       "      <th>IsHoliday</th>\n",
       "    </tr>\n",
       "  </thead>\n",
       "  <tbody>\n",
       "    <tr>\n",
       "      <th>0</th>\n",
       "      <td>2010-02-05</td>\n",
       "      <td>1.0</td>\n",
       "      <td>1.0</td>\n",
       "      <td>24924.50</td>\n",
       "      <td>False</td>\n",
       "    </tr>\n",
       "    <tr>\n",
       "      <th>1</th>\n",
       "      <td>2010-02-12</td>\n",
       "      <td>1.0</td>\n",
       "      <td>1.0</td>\n",
       "      <td>46039.49</td>\n",
       "      <td>True</td>\n",
       "    </tr>\n",
       "    <tr>\n",
       "      <th>2</th>\n",
       "      <td>2010-02-19</td>\n",
       "      <td>1.0</td>\n",
       "      <td>1.0</td>\n",
       "      <td>41595.55</td>\n",
       "      <td>False</td>\n",
       "    </tr>\n",
       "    <tr>\n",
       "      <th>3</th>\n",
       "      <td>2010-02-26</td>\n",
       "      <td>1.0</td>\n",
       "      <td>1.0</td>\n",
       "      <td>19403.54</td>\n",
       "      <td>False</td>\n",
       "    </tr>\n",
       "    <tr>\n",
       "      <th>4</th>\n",
       "      <td>2010-03-05</td>\n",
       "      <td>1.0</td>\n",
       "      <td>1.0</td>\n",
       "      <td>21827.90</td>\n",
       "      <td>False</td>\n",
       "    </tr>\n",
       "  </tbody>\n",
       "</table>\n",
       "</div>"
      ],
      "text/plain": [
       "        Date  Store  Dept  Weekly_Sales IsHoliday\n",
       "0 2010-02-05    1.0   1.0      24924.50     False\n",
       "1 2010-02-12    1.0   1.0      46039.49      True\n",
       "2 2010-02-19    1.0   1.0      41595.55     False\n",
       "3 2010-02-26    1.0   1.0      19403.54     False\n",
       "4 2010-03-05    1.0   1.0      21827.90     False"
      ]
     },
     "execution_count": 15,
     "metadata": {},
     "output_type": "execute_result"
    }
   ],
   "source": [
    "sales.head()"
   ]
  },
  {
   "cell_type": "code",
   "execution_count": 16,
   "id": "00b95807",
   "metadata": {
    "scrolled": true
   },
   "outputs": [
    {
     "data": {
      "text/html": [
       "<div>\n",
       "<style scoped>\n",
       "    .dataframe tbody tr th:only-of-type {\n",
       "        vertical-align: middle;\n",
       "    }\n",
       "\n",
       "    .dataframe tbody tr th {\n",
       "        vertical-align: top;\n",
       "    }\n",
       "\n",
       "    .dataframe thead th {\n",
       "        text-align: right;\n",
       "    }\n",
       "</style>\n",
       "<table border=\"1\" class=\"dataframe\">\n",
       "  <thead>\n",
       "    <tr style=\"text-align: right;\">\n",
       "      <th></th>\n",
       "      <th>Store</th>\n",
       "      <th>Type</th>\n",
       "      <th>Size</th>\n",
       "    </tr>\n",
       "  </thead>\n",
       "  <tbody>\n",
       "    <tr>\n",
       "      <th>0</th>\n",
       "      <td>1</td>\n",
       "      <td>A</td>\n",
       "      <td>151315</td>\n",
       "    </tr>\n",
       "    <tr>\n",
       "      <th>1</th>\n",
       "      <td>2</td>\n",
       "      <td>A</td>\n",
       "      <td>202307</td>\n",
       "    </tr>\n",
       "    <tr>\n",
       "      <th>2</th>\n",
       "      <td>3</td>\n",
       "      <td>B</td>\n",
       "      <td>37392</td>\n",
       "    </tr>\n",
       "    <tr>\n",
       "      <th>3</th>\n",
       "      <td>4</td>\n",
       "      <td>A</td>\n",
       "      <td>205863</td>\n",
       "    </tr>\n",
       "    <tr>\n",
       "      <th>4</th>\n",
       "      <td>5</td>\n",
       "      <td>B</td>\n",
       "      <td>34875</td>\n",
       "    </tr>\n",
       "  </tbody>\n",
       "</table>\n",
       "</div>"
      ],
      "text/plain": [
       "   Store Type    Size\n",
       "0      1    A  151315\n",
       "1      2    A  202307\n",
       "2      3    B   37392\n",
       "3      4    A  205863\n",
       "4      5    B   34875"
      ]
     },
     "execution_count": 16,
     "metadata": {},
     "output_type": "execute_result"
    }
   ],
   "source": [
    "stores.head()"
   ]
  },
  {
   "cell_type": "code",
   "execution_count": 17,
   "id": "0a99b71b",
   "metadata": {},
   "outputs": [
    {
     "name": "stdout",
     "output_type": "stream",
     "text": [
      "45 3\n"
     ]
    }
   ],
   "source": [
    "print(stores[\"Store\"].nunique(),stores[\"Type\"].nunique())"
   ]
  },
  {
   "cell_type": "code",
   "execution_count": 18,
   "id": "bb41b0d2",
   "metadata": {},
   "outputs": [],
   "source": [
    "df = pd.merge(sales,stores,on = 'Store', how='left')"
   ]
  },
  {
   "cell_type": "code",
   "execution_count": 19,
   "id": "cc542eba",
   "metadata": {},
   "outputs": [
    {
     "data": {
      "text/html": [
       "<div>\n",
       "<style scoped>\n",
       "    .dataframe tbody tr th:only-of-type {\n",
       "        vertical-align: middle;\n",
       "    }\n",
       "\n",
       "    .dataframe tbody tr th {\n",
       "        vertical-align: top;\n",
       "    }\n",
       "\n",
       "    .dataframe thead th {\n",
       "        text-align: right;\n",
       "    }\n",
       "</style>\n",
       "<table border=\"1\" class=\"dataframe\">\n",
       "  <thead>\n",
       "    <tr style=\"text-align: right;\">\n",
       "      <th></th>\n",
       "      <th>Store</th>\n",
       "      <th>Dept</th>\n",
       "      <th>Weekly_Sales</th>\n",
       "      <th>Size</th>\n",
       "    </tr>\n",
       "  </thead>\n",
       "  <tbody>\n",
       "    <tr>\n",
       "      <th>count</th>\n",
       "      <td>507311.000000</td>\n",
       "      <td>507311.000000</td>\n",
       "      <td>507311.000000</td>\n",
       "      <td>461824.000000</td>\n",
       "    </tr>\n",
       "    <tr>\n",
       "      <th>mean</th>\n",
       "      <td>20.206335</td>\n",
       "      <td>40.286680</td>\n",
       "      <td>13280.427881</td>\n",
       "      <td>136719.178512</td>\n",
       "    </tr>\n",
       "    <tr>\n",
       "      <th>std</th>\n",
       "      <td>13.752094</td>\n",
       "      <td>31.745775</td>\n",
       "      <td>21551.975364</td>\n",
       "      <td>61004.518063</td>\n",
       "    </tr>\n",
       "    <tr>\n",
       "      <th>min</th>\n",
       "      <td>0.000000</td>\n",
       "      <td>0.000000</td>\n",
       "      <td>0.000000</td>\n",
       "      <td>34875.000000</td>\n",
       "    </tr>\n",
       "    <tr>\n",
       "      <th>25%</th>\n",
       "      <td>8.000000</td>\n",
       "      <td>12.000000</td>\n",
       "      <td>274.390000</td>\n",
       "      <td>93638.000000</td>\n",
       "    </tr>\n",
       "    <tr>\n",
       "      <th>50%</th>\n",
       "      <td>20.000000</td>\n",
       "      <td>33.000000</td>\n",
       "      <td>4851.920000</td>\n",
       "      <td>140167.000000</td>\n",
       "    </tr>\n",
       "    <tr>\n",
       "      <th>75%</th>\n",
       "      <td>32.000000</td>\n",
       "      <td>71.000000</td>\n",
       "      <td>16568.750000</td>\n",
       "      <td>202505.000000</td>\n",
       "    </tr>\n",
       "    <tr>\n",
       "      <th>max</th>\n",
       "      <td>45.000000</td>\n",
       "      <td>99.000000</td>\n",
       "      <td>693099.360000</td>\n",
       "      <td>219622.000000</td>\n",
       "    </tr>\n",
       "  </tbody>\n",
       "</table>\n",
       "</div>"
      ],
      "text/plain": [
       "               Store           Dept   Weekly_Sales           Size\n",
       "count  507311.000000  507311.000000  507311.000000  461824.000000\n",
       "mean       20.206335      40.286680   13280.427881  136719.178512\n",
       "std        13.752094      31.745775   21551.975364   61004.518063\n",
       "min         0.000000       0.000000       0.000000   34875.000000\n",
       "25%         8.000000      12.000000     274.390000   93638.000000\n",
       "50%        20.000000      33.000000    4851.920000  140167.000000\n",
       "75%        32.000000      71.000000   16568.750000  202505.000000\n",
       "max        45.000000      99.000000  693099.360000  219622.000000"
      ]
     },
     "execution_count": 19,
     "metadata": {},
     "output_type": "execute_result"
    }
   ],
   "source": [
    "df.describe()"
   ]
  },
  {
   "cell_type": "code",
   "execution_count": 20,
   "id": "3a6fcb95",
   "metadata": {},
   "outputs": [
    {
     "data": {
      "text/html": [
       "<div>\n",
       "<style scoped>\n",
       "    .dataframe tbody tr th:only-of-type {\n",
       "        vertical-align: middle;\n",
       "    }\n",
       "\n",
       "    .dataframe tbody tr th {\n",
       "        vertical-align: top;\n",
       "    }\n",
       "\n",
       "    .dataframe thead th {\n",
       "        text-align: right;\n",
       "    }\n",
       "</style>\n",
       "<table border=\"1\" class=\"dataframe\">\n",
       "  <thead>\n",
       "    <tr style=\"text-align: right;\">\n",
       "      <th></th>\n",
       "      <th>Store</th>\n",
       "      <th>Date</th>\n",
       "      <th>Temperature</th>\n",
       "      <th>Fuel_Price</th>\n",
       "      <th>MarkDown1</th>\n",
       "      <th>MarkDown2</th>\n",
       "      <th>MarkDown3</th>\n",
       "      <th>MarkDown4</th>\n",
       "      <th>MarkDown5</th>\n",
       "      <th>CPI</th>\n",
       "      <th>Unemployment</th>\n",
       "      <th>IsHoliday</th>\n",
       "    </tr>\n",
       "  </thead>\n",
       "  <tbody>\n",
       "    <tr>\n",
       "      <th>0</th>\n",
       "      <td>1</td>\n",
       "      <td>2010-02-05</td>\n",
       "      <td>42.31</td>\n",
       "      <td>2.572</td>\n",
       "      <td>NaN</td>\n",
       "      <td>NaN</td>\n",
       "      <td>NaN</td>\n",
       "      <td>NaN</td>\n",
       "      <td>NaN</td>\n",
       "      <td>211.096358</td>\n",
       "      <td>8.106</td>\n",
       "      <td>False</td>\n",
       "    </tr>\n",
       "    <tr>\n",
       "      <th>1</th>\n",
       "      <td>1</td>\n",
       "      <td>2010-02-12</td>\n",
       "      <td>38.51</td>\n",
       "      <td>2.548</td>\n",
       "      <td>NaN</td>\n",
       "      <td>NaN</td>\n",
       "      <td>NaN</td>\n",
       "      <td>NaN</td>\n",
       "      <td>NaN</td>\n",
       "      <td>211.242170</td>\n",
       "      <td>8.106</td>\n",
       "      <td>True</td>\n",
       "    </tr>\n",
       "    <tr>\n",
       "      <th>2</th>\n",
       "      <td>1</td>\n",
       "      <td>2010-02-19</td>\n",
       "      <td>39.93</td>\n",
       "      <td>2.514</td>\n",
       "      <td>NaN</td>\n",
       "      <td>NaN</td>\n",
       "      <td>NaN</td>\n",
       "      <td>NaN</td>\n",
       "      <td>NaN</td>\n",
       "      <td>211.289143</td>\n",
       "      <td>8.106</td>\n",
       "      <td>False</td>\n",
       "    </tr>\n",
       "    <tr>\n",
       "      <th>3</th>\n",
       "      <td>1</td>\n",
       "      <td>2010-02-26</td>\n",
       "      <td>46.63</td>\n",
       "      <td>2.561</td>\n",
       "      <td>NaN</td>\n",
       "      <td>NaN</td>\n",
       "      <td>NaN</td>\n",
       "      <td>NaN</td>\n",
       "      <td>NaN</td>\n",
       "      <td>211.319643</td>\n",
       "      <td>8.106</td>\n",
       "      <td>False</td>\n",
       "    </tr>\n",
       "    <tr>\n",
       "      <th>4</th>\n",
       "      <td>1</td>\n",
       "      <td>2010-03-05</td>\n",
       "      <td>46.50</td>\n",
       "      <td>2.625</td>\n",
       "      <td>NaN</td>\n",
       "      <td>NaN</td>\n",
       "      <td>NaN</td>\n",
       "      <td>NaN</td>\n",
       "      <td>NaN</td>\n",
       "      <td>211.350143</td>\n",
       "      <td>8.106</td>\n",
       "      <td>False</td>\n",
       "    </tr>\n",
       "  </tbody>\n",
       "</table>\n",
       "</div>"
      ],
      "text/plain": [
       "   Store        Date  Temperature  Fuel_Price  MarkDown1  MarkDown2  \\\n",
       "0      1  2010-02-05        42.31       2.572        NaN        NaN   \n",
       "1      1  2010-02-12        38.51       2.548        NaN        NaN   \n",
       "2      1  2010-02-19        39.93       2.514        NaN        NaN   \n",
       "3      1  2010-02-26        46.63       2.561        NaN        NaN   \n",
       "4      1  2010-03-05        46.50       2.625        NaN        NaN   \n",
       "\n",
       "   MarkDown3  MarkDown4  MarkDown5         CPI  Unemployment  IsHoliday  \n",
       "0        NaN        NaN        NaN  211.096358         8.106      False  \n",
       "1        NaN        NaN        NaN  211.242170         8.106       True  \n",
       "2        NaN        NaN        NaN  211.289143         8.106      False  \n",
       "3        NaN        NaN        NaN  211.319643         8.106      False  \n",
       "4        NaN        NaN        NaN  211.350143         8.106      False  "
      ]
     },
     "execution_count": 20,
     "metadata": {},
     "output_type": "execute_result"
    }
   ],
   "source": [
    "features.head()"
   ]
  },
  {
   "cell_type": "code",
   "execution_count": 21,
   "id": "0db91456",
   "metadata": {},
   "outputs": [
    {
     "data": {
      "text/html": [
       "<div>\n",
       "<style scoped>\n",
       "    .dataframe tbody tr th:only-of-type {\n",
       "        vertical-align: middle;\n",
       "    }\n",
       "\n",
       "    .dataframe tbody tr th {\n",
       "        vertical-align: top;\n",
       "    }\n",
       "\n",
       "    .dataframe thead th {\n",
       "        text-align: right;\n",
       "    }\n",
       "</style>\n",
       "<table border=\"1\" class=\"dataframe\">\n",
       "  <thead>\n",
       "    <tr style=\"text-align: right;\">\n",
       "      <th></th>\n",
       "      <th>Store</th>\n",
       "      <th>Temperature</th>\n",
       "      <th>Fuel_Price</th>\n",
       "      <th>MarkDown1</th>\n",
       "      <th>MarkDown2</th>\n",
       "      <th>MarkDown3</th>\n",
       "      <th>MarkDown4</th>\n",
       "      <th>MarkDown5</th>\n",
       "      <th>CPI</th>\n",
       "      <th>Unemployment</th>\n",
       "    </tr>\n",
       "  </thead>\n",
       "  <tbody>\n",
       "    <tr>\n",
       "      <th>count</th>\n",
       "      <td>8190.000000</td>\n",
       "      <td>8190.000000</td>\n",
       "      <td>8190.000000</td>\n",
       "      <td>4032.000000</td>\n",
       "      <td>2921.000000</td>\n",
       "      <td>3613.000000</td>\n",
       "      <td>3464.000000</td>\n",
       "      <td>4050.000000</td>\n",
       "      <td>7605.000000</td>\n",
       "      <td>7605.000000</td>\n",
       "    </tr>\n",
       "    <tr>\n",
       "      <th>mean</th>\n",
       "      <td>23.000000</td>\n",
       "      <td>59.356198</td>\n",
       "      <td>3.405992</td>\n",
       "      <td>7032.371786</td>\n",
       "      <td>3384.176594</td>\n",
       "      <td>1760.100180</td>\n",
       "      <td>3292.935886</td>\n",
       "      <td>4132.216422</td>\n",
       "      <td>172.460809</td>\n",
       "      <td>7.826821</td>\n",
       "    </tr>\n",
       "    <tr>\n",
       "      <th>std</th>\n",
       "      <td>12.987966</td>\n",
       "      <td>18.678607</td>\n",
       "      <td>0.431337</td>\n",
       "      <td>9262.747448</td>\n",
       "      <td>8793.583016</td>\n",
       "      <td>11276.462208</td>\n",
       "      <td>6792.329861</td>\n",
       "      <td>13086.690278</td>\n",
       "      <td>39.738346</td>\n",
       "      <td>1.877259</td>\n",
       "    </tr>\n",
       "    <tr>\n",
       "      <th>min</th>\n",
       "      <td>1.000000</td>\n",
       "      <td>-7.290000</td>\n",
       "      <td>2.472000</td>\n",
       "      <td>-2781.450000</td>\n",
       "      <td>-265.760000</td>\n",
       "      <td>-179.260000</td>\n",
       "      <td>0.220000</td>\n",
       "      <td>-185.170000</td>\n",
       "      <td>126.064000</td>\n",
       "      <td>3.684000</td>\n",
       "    </tr>\n",
       "    <tr>\n",
       "      <th>25%</th>\n",
       "      <td>12.000000</td>\n",
       "      <td>45.902500</td>\n",
       "      <td>3.041000</td>\n",
       "      <td>1577.532500</td>\n",
       "      <td>68.880000</td>\n",
       "      <td>6.600000</td>\n",
       "      <td>304.687500</td>\n",
       "      <td>1440.827500</td>\n",
       "      <td>132.364839</td>\n",
       "      <td>6.634000</td>\n",
       "    </tr>\n",
       "    <tr>\n",
       "      <th>50%</th>\n",
       "      <td>23.000000</td>\n",
       "      <td>60.710000</td>\n",
       "      <td>3.513000</td>\n",
       "      <td>4743.580000</td>\n",
       "      <td>364.570000</td>\n",
       "      <td>36.260000</td>\n",
       "      <td>1176.425000</td>\n",
       "      <td>2727.135000</td>\n",
       "      <td>182.764003</td>\n",
       "      <td>7.806000</td>\n",
       "    </tr>\n",
       "    <tr>\n",
       "      <th>75%</th>\n",
       "      <td>34.000000</td>\n",
       "      <td>73.880000</td>\n",
       "      <td>3.743000</td>\n",
       "      <td>8923.310000</td>\n",
       "      <td>2153.350000</td>\n",
       "      <td>163.150000</td>\n",
       "      <td>3310.007500</td>\n",
       "      <td>4832.555000</td>\n",
       "      <td>213.932412</td>\n",
       "      <td>8.567000</td>\n",
       "    </tr>\n",
       "    <tr>\n",
       "      <th>max</th>\n",
       "      <td>45.000000</td>\n",
       "      <td>101.950000</td>\n",
       "      <td>4.468000</td>\n",
       "      <td>103184.980000</td>\n",
       "      <td>104519.540000</td>\n",
       "      <td>149483.310000</td>\n",
       "      <td>67474.850000</td>\n",
       "      <td>771448.100000</td>\n",
       "      <td>228.976456</td>\n",
       "      <td>14.313000</td>\n",
       "    </tr>\n",
       "  </tbody>\n",
       "</table>\n",
       "</div>"
      ],
      "text/plain": [
       "             Store  Temperature   Fuel_Price      MarkDown1      MarkDown2  \\\n",
       "count  8190.000000  8190.000000  8190.000000    4032.000000    2921.000000   \n",
       "mean     23.000000    59.356198     3.405992    7032.371786    3384.176594   \n",
       "std      12.987966    18.678607     0.431337    9262.747448    8793.583016   \n",
       "min       1.000000    -7.290000     2.472000   -2781.450000    -265.760000   \n",
       "25%      12.000000    45.902500     3.041000    1577.532500      68.880000   \n",
       "50%      23.000000    60.710000     3.513000    4743.580000     364.570000   \n",
       "75%      34.000000    73.880000     3.743000    8923.310000    2153.350000   \n",
       "max      45.000000   101.950000     4.468000  103184.980000  104519.540000   \n",
       "\n",
       "           MarkDown3     MarkDown4      MarkDown5          CPI  Unemployment  \n",
       "count    3613.000000   3464.000000    4050.000000  7605.000000   7605.000000  \n",
       "mean     1760.100180   3292.935886    4132.216422   172.460809      7.826821  \n",
       "std     11276.462208   6792.329861   13086.690278    39.738346      1.877259  \n",
       "min      -179.260000      0.220000    -185.170000   126.064000      3.684000  \n",
       "25%         6.600000    304.687500    1440.827500   132.364839      6.634000  \n",
       "50%        36.260000   1176.425000    2727.135000   182.764003      7.806000  \n",
       "75%       163.150000   3310.007500    4832.555000   213.932412      8.567000  \n",
       "max    149483.310000  67474.850000  771448.100000   228.976456     14.313000  "
      ]
     },
     "execution_count": 21,
     "metadata": {},
     "output_type": "execute_result"
    }
   ],
   "source": [
    "features.describe()"
   ]
  },
  {
   "cell_type": "code",
   "execution_count": 22,
   "id": "b670126a",
   "metadata": {},
   "outputs": [],
   "source": [
    "features[\"Date\"] = pd.to_datetime(features[\"Date\"])"
   ]
  },
  {
   "cell_type": "code",
   "execution_count": 23,
   "id": "d692c348",
   "metadata": {},
   "outputs": [],
   "source": [
    "df = pd.merge(df,features,on=[\"Store\",\"Date\"],how=\"left\")"
   ]
  },
  {
   "cell_type": "code",
   "execution_count": 24,
   "id": "94d5bbd0",
   "metadata": {},
   "outputs": [],
   "source": [
    "df['week'] =df['Date'].dt.week\n",
    "df['month'] =df['Date'].dt.month \n",
    "df['year'] =df['Date'].dt.year"
   ]
  },
  {
   "cell_type": "code",
   "execution_count": 25,
   "id": "29f5ab19",
   "metadata": {
    "scrolled": true
   },
   "outputs": [
    {
     "data": {
      "text/plain": [
       "<AxesSubplot:xlabel='week'>"
      ]
     },
     "execution_count": 25,
     "metadata": {},
     "output_type": "execute_result"
    },
    {
     "data": {
      "image/png": "[encoded data removed]",
      "text/plain": [
       "<Figure size 432x288 with 1 Axes>"
      ]
     },
     "metadata": {
      "needs_background": "light"
     },
     "output_type": "display_data"
    }
   ],
   "source": [
    "weekly_sales = pd.pivot_table(df, values = \"Weekly_Sales\", columns = \"year\", index = \"week\")\n",
    "weekly_sales.plot()"
   ]
  },
  {
   "cell_type": "code",
   "execution_count": 26,
   "id": "13a6b0e9",
   "metadata": {},
   "outputs": [
    {
     "name": "stdout",
     "output_type": "stream",
     "text": [
      "2011-09-30 00:00:00 2013-02-01 00:00:00\n"
     ]
    }
   ],
   "source": [
    "# extracting data for latest 1 year present in dataset\n",
    "df = df[df[\"Date\"]>=pd.to_datetime('2011-09-30')]\n",
    "print(df[\"Date\"].min(),df[\"Date\"].max())"
   ]
  },
  {
   "cell_type": "code",
   "execution_count": 27,
   "id": "ff12507e",
   "metadata": {},
   "outputs": [
    {
     "data": {
      "text/html": [
       "<div>\n",
       "<style scoped>\n",
       "    .dataframe tbody tr th:only-of-type {\n",
       "        vertical-align: middle;\n",
       "    }\n",
       "\n",
       "    .dataframe tbody tr th {\n",
       "        vertical-align: top;\n",
       "    }\n",
       "\n",
       "    .dataframe thead th {\n",
       "        text-align: right;\n",
       "    }\n",
       "</style>\n",
       "<table border=\"1\" class=\"dataframe\">\n",
       "  <thead>\n",
       "    <tr style=\"text-align: right;\">\n",
       "      <th></th>\n",
       "      <th>Date</th>\n",
       "      <th>Store</th>\n",
       "      <th>Dept</th>\n",
       "      <th>Weekly_Sales</th>\n",
       "      <th>IsHoliday_x</th>\n",
       "      <th>Type</th>\n",
       "      <th>Size</th>\n",
       "      <th>Temperature</th>\n",
       "      <th>Fuel_Price</th>\n",
       "      <th>MarkDown1</th>\n",
       "      <th>MarkDown2</th>\n",
       "      <th>MarkDown3</th>\n",
       "      <th>MarkDown4</th>\n",
       "      <th>MarkDown5</th>\n",
       "      <th>CPI</th>\n",
       "      <th>Unemployment</th>\n",
       "      <th>IsHoliday_y</th>\n",
       "      <th>week</th>\n",
       "      <th>month</th>\n",
       "      <th>year</th>\n",
       "    </tr>\n",
       "  </thead>\n",
       "  <tbody>\n",
       "    <tr>\n",
       "      <th>86</th>\n",
       "      <td>2011-09-30</td>\n",
       "      <td>1.0</td>\n",
       "      <td>1.0</td>\n",
       "      <td>18337.68</td>\n",
       "      <td>False</td>\n",
       "      <td>A</td>\n",
       "      <td>151315.0</td>\n",
       "      <td>79.69</td>\n",
       "      <td>3.355</td>\n",
       "      <td>NaN</td>\n",
       "      <td>NaN</td>\n",
       "      <td>NaN</td>\n",
       "      <td>NaN</td>\n",
       "      <td>NaN</td>\n",
       "      <td>216.710597</td>\n",
       "      <td>7.962</td>\n",
       "      <td>False</td>\n",
       "      <td>39</td>\n",
       "      <td>9</td>\n",
       "      <td>2011</td>\n",
       "    </tr>\n",
       "    <tr>\n",
       "      <th>87</th>\n",
       "      <td>2011-10-07</td>\n",
       "      <td>1.0</td>\n",
       "      <td>1.0</td>\n",
       "      <td>20797.58</td>\n",
       "      <td>False</td>\n",
       "      <td>A</td>\n",
       "      <td>151315.0</td>\n",
       "      <td>69.31</td>\n",
       "      <td>3.285</td>\n",
       "      <td>NaN</td>\n",
       "      <td>NaN</td>\n",
       "      <td>NaN</td>\n",
       "      <td>NaN</td>\n",
       "      <td>NaN</td>\n",
       "      <td>217.045368</td>\n",
       "      <td>7.866</td>\n",
       "      <td>False</td>\n",
       "      <td>40</td>\n",
       "      <td>10</td>\n",
       "      <td>2011</td>\n",
       "    </tr>\n",
       "    <tr>\n",
       "      <th>88</th>\n",
       "      <td>2011-10-14</td>\n",
       "      <td>1.0</td>\n",
       "      <td>1.0</td>\n",
       "      <td>23077.55</td>\n",
       "      <td>False</td>\n",
       "      <td>A</td>\n",
       "      <td>151315.0</td>\n",
       "      <td>71.74</td>\n",
       "      <td>3.274</td>\n",
       "      <td>NaN</td>\n",
       "      <td>NaN</td>\n",
       "      <td>NaN</td>\n",
       "      <td>NaN</td>\n",
       "      <td>NaN</td>\n",
       "      <td>217.355273</td>\n",
       "      <td>7.866</td>\n",
       "      <td>False</td>\n",
       "      <td>41</td>\n",
       "      <td>10</td>\n",
       "      <td>2011</td>\n",
       "    </tr>\n",
       "    <tr>\n",
       "      <th>89</th>\n",
       "      <td>2011-10-21</td>\n",
       "      <td>1.0</td>\n",
       "      <td>1.0</td>\n",
       "      <td>23351.80</td>\n",
       "      <td>False</td>\n",
       "      <td>A</td>\n",
       "      <td>151315.0</td>\n",
       "      <td>63.71</td>\n",
       "      <td>3.353</td>\n",
       "      <td>NaN</td>\n",
       "      <td>NaN</td>\n",
       "      <td>NaN</td>\n",
       "      <td>NaN</td>\n",
       "      <td>NaN</td>\n",
       "      <td>217.515976</td>\n",
       "      <td>7.866</td>\n",
       "      <td>False</td>\n",
       "      <td>42</td>\n",
       "      <td>10</td>\n",
       "      <td>2011</td>\n",
       "    </tr>\n",
       "    <tr>\n",
       "      <th>90</th>\n",
       "      <td>2011-10-28</td>\n",
       "      <td>1.0</td>\n",
       "      <td>1.0</td>\n",
       "      <td>31579.90</td>\n",
       "      <td>False</td>\n",
       "      <td>A</td>\n",
       "      <td>151315.0</td>\n",
       "      <td>66.57</td>\n",
       "      <td>3.372</td>\n",
       "      <td>NaN</td>\n",
       "      <td>NaN</td>\n",
       "      <td>NaN</td>\n",
       "      <td>NaN</td>\n",
       "      <td>NaN</td>\n",
       "      <td>217.676679</td>\n",
       "      <td>7.866</td>\n",
       "      <td>False</td>\n",
       "      <td>43</td>\n",
       "      <td>10</td>\n",
       "      <td>2011</td>\n",
       "    </tr>\n",
       "  </tbody>\n",
       "</table>\n",
       "</div>"
      ],
      "text/plain": [
       "         Date  Store  Dept  Weekly_Sales IsHoliday_x Type      Size  \\\n",
       "86 2011-09-30    1.0   1.0      18337.68       False    A  151315.0   \n",
       "87 2011-10-07    1.0   1.0      20797.58       False    A  151315.0   \n",
       "88 2011-10-14    1.0   1.0      23077.55       False    A  151315.0   \n",
       "89 2011-10-21    1.0   1.0      23351.80       False    A  151315.0   \n",
       "90 2011-10-28    1.0   1.0      31579.90       False    A  151315.0   \n",
       "\n",
       "    Temperature  Fuel_Price  MarkDown1  MarkDown2  MarkDown3  MarkDown4  \\\n",
       "86        79.69       3.355        NaN        NaN        NaN        NaN   \n",
       "87        69.31       3.285        NaN        NaN        NaN        NaN   \n",
       "88        71.74       3.274        NaN        NaN        NaN        NaN   \n",
       "89        63.71       3.353        NaN        NaN        NaN        NaN   \n",
       "90        66.57       3.372        NaN        NaN        NaN        NaN   \n",
       "\n",
       "    MarkDown5         CPI  Unemployment IsHoliday_y  week  month  year  \n",
       "86        NaN  216.710597         7.962       False    39      9  2011  \n",
       "87        NaN  217.045368         7.866       False    40     10  2011  \n",
       "88        NaN  217.355273         7.866       False    41     10  2011  \n",
       "89        NaN  217.515976         7.866       False    42     10  2011  \n",
       "90        NaN  217.676679         7.866       False    43     10  2011  "
      ]
     },
     "execution_count": 27,
     "metadata": {},
     "output_type": "execute_result"
    }
   ],
   "source": [
    "df.head()"
   ]
  },
  {
   "cell_type": "code",
   "execution_count": 28,
   "id": "5f794bb4",
   "metadata": {},
   "outputs": [],
   "source": [
    "df[\"check_holiday\"] = df['IsHoliday_x'].equals(df['IsHoliday_y'])"
   ]
  },
  {
   "cell_type": "code",
   "execution_count": 29,
   "id": "f6b34647",
   "metadata": {},
   "outputs": [
    {
     "data": {
      "text/plain": [
       "1"
      ]
     },
     "execution_count": 29,
     "metadata": {},
     "output_type": "execute_result"
    }
   ],
   "source": [
    "df[\"check_holiday\"].nunique()"
   ]
  },
  {
   "cell_type": "code",
   "execution_count": 30,
   "id": "c62cd310",
   "metadata": {},
   "outputs": [],
   "source": [
    "df.drop([\"IsHoliday_y\",\"check_holiday\"],axis=1,inplace=True)"
   ]
  },
  {
   "cell_type": "code",
   "execution_count": 31,
   "id": "92ca3ad7",
   "metadata": {},
   "outputs": [],
   "source": [
    "df.rename(columns={\"IsHoliday_x\":\"IsHoliday\"},inplace=True)"
   ]
  },
  {
   "cell_type": "code",
   "execution_count": 32,
   "id": "6522a127",
   "metadata": {},
   "outputs": [
    {
     "data": {
      "text/plain": [
       "Index(['Date', 'Store', 'Dept', 'Weekly_Sales', 'IsHoliday', 'Type', 'Size',\n",
       "       'Temperature', 'Fuel_Price', 'MarkDown1', 'MarkDown2', 'MarkDown3',\n",
       "       'MarkDown4', 'MarkDown5', 'CPI', 'Unemployment', 'week', 'month',\n",
       "       'year'],\n",
       "      dtype='object')"
      ]
     },
     "execution_count": 32,
     "metadata": {},
     "output_type": "execute_result"
    }
   ],
   "source": [
    "df.columns"
   ]
  },
  {
   "cell_type": "code",
   "execution_count": 33,
   "id": "506dbaf9",
   "metadata": {},
   "outputs": [
    {
     "data": {
      "text/plain": [
       "Date                0\n",
       "Store               0\n",
       "Dept                0\n",
       "Weekly_Sales        0\n",
       "IsHoliday           0\n",
       "Type            24446\n",
       "Size            24446\n",
       "Temperature     24446\n",
       "Fuel_Price      24446\n",
       "MarkDown1       42923\n",
       "MarkDown2       93315\n",
       "MarkDown3       59587\n",
       "MarkDown4       63379\n",
       "MarkDown5       42126\n",
       "CPI             24446\n",
       "Unemployment    24446\n",
       "week                0\n",
       "month               0\n",
       "year                0\n",
       "dtype: int64"
      ]
     },
     "execution_count": 33,
     "metadata": {},
     "output_type": "execute_result"
    }
   ],
   "source": [
    "df.isnull().sum()"
   ]
  },
  {
   "cell_type": "code",
   "execution_count": 34,
   "id": "816c10d2",
   "metadata": {},
   "outputs": [],
   "source": [
    "df.fillna(0,inplace=True)"
   ]
  },
  {
   "cell_type": "code",
   "execution_count": 35,
   "id": "4f270d19",
   "metadata": {},
   "outputs": [
    {
     "data": {
      "text/plain": [
       "<AxesSubplot:xlabel='week'>"
      ]
     },
     "execution_count": 35,
     "metadata": {},
     "output_type": "execute_result"
    },
    {
     "data": {
      "image/png": "[encoded data removed]",
      "text/plain": [
       "<Figure size 432x288 with 1 Axes>"
      ]
     },
     "metadata": {
      "needs_background": "light"
     },
     "output_type": "display_data"
    }
   ],
   "source": [
    "weekly_sales = pd.pivot_table(df, values = \"Weekly_Sales\", columns = \"year\", index = \"week\")\n",
    "weekly_sales.plot()"
   ]
  },
  {
   "cell_type": "code",
   "execution_count": 36,
   "id": "768f2d7c",
   "metadata": {},
   "outputs": [
    {
     "data": {
      "text/plain": [
       "<AxesSubplot:xlabel='Fuel_Price'>"
      ]
     },
     "execution_count": 36,
     "metadata": {},
     "output_type": "execute_result"
    },
    {
     "data": {
      "image/png": "[encoded data removed]",
      "text/plain": [
       "<Figure size 432x288 with 1 Axes>"
      ]
     },
     "metadata": {
      "needs_background": "light"
     },
     "output_type": "display_data"
    }
   ],
   "source": [
    "fuel_price = pd.pivot_table(df, values = \"Weekly_Sales\", index= \"Fuel_Price\")\n",
    "fuel_price.plot()"
   ]
  },
  {
   "cell_type": "code",
   "execution_count": 37,
   "id": "c095a95b",
   "metadata": {},
   "outputs": [
    {
     "data": {
      "text/plain": [
       "<AxesSubplot:xlabel='Temperature'>"
      ]
     },
     "execution_count": 37,
     "metadata": {},
     "output_type": "execute_result"
    },
    {
     "data": {
      "image/png": "[encoded data removed]",
      "text/plain": [
       "<Figure size 432x288 with 1 Axes>"
      ]
     },
     "metadata": {
      "needs_background": "light"
     },
     "output_type": "display_data"
    }
   ],
   "source": [
    "temp = pd.pivot_table(df, values = \"Weekly_Sales\", index= \"Temperature\")\n",
    "temp.plot()"
   ]
  },
  {
   "cell_type": "code",
   "execution_count": 38,
   "id": "4754a605",
   "metadata": {},
   "outputs": [
    {
     "data": {
      "text/plain": [
       "<AxesSubplot:xlabel='CPI'>"
      ]
     },
     "execution_count": 38,
     "metadata": {},
     "output_type": "execute_result"
    },
    {
     "data": {
      "image/png": "[encoded data removed]",
      "text/plain": [
       "<Figure size 432x288 with 1 Axes>"
      ]
     },
     "metadata": {
      "needs_background": "light"
     },
     "output_type": "display_data"
    }
   ],
   "source": [
    "CPI = pd.pivot_table(df, values = \"Weekly_Sales\", index= \"CPI\")\n",
    "CPI.plot()"
   ]
  },
  {
   "cell_type": "code",
   "execution_count": 39,
   "id": "352a6b30",
   "metadata": {
    "scrolled": true
   },
   "outputs": [
    {
     "data": {
      "text/plain": [
       "<AxesSubplot:xlabel='Unemployment'>"
      ]
     },
     "execution_count": 39,
     "metadata": {},
     "output_type": "execute_result"
    },
    {
     "data": {
      "image/png": "[encoded data removed]",
      "text/plain": [
       "<Figure size 432x288 with 1 Axes>"
      ]
     },
     "metadata": {
      "needs_background": "light"
     },
     "output_type": "display_data"
    }
   ],
   "source": [
    "unemployment = pd.pivot_table(df, values = \"Weekly_Sales\", index= \"Unemployment\")\n",
    "unemployment.plot()"
   ]
  },
  {
   "cell_type": "code",
   "execution_count": 40,
   "id": "ff5ac725",
   "metadata": {
    "scrolled": false
   },
   "outputs": [
    {
     "data": {
      "text/html": [
       "<div>\n",
       "<style scoped>\n",
       "    .dataframe tbody tr th:only-of-type {\n",
       "        vertical-align: middle;\n",
       "    }\n",
       "\n",
       "    .dataframe tbody tr th {\n",
       "        vertical-align: top;\n",
       "    }\n",
       "\n",
       "    .dataframe thead th {\n",
       "        text-align: right;\n",
       "    }\n",
       "</style>\n",
       "<table border=\"1\" class=\"dataframe\">\n",
       "  <thead>\n",
       "    <tr style=\"text-align: right;\">\n",
       "      <th></th>\n",
       "      <th>Date</th>\n",
       "      <th>Store</th>\n",
       "      <th>Dept</th>\n",
       "      <th>Weekly_Sales</th>\n",
       "      <th>IsHoliday</th>\n",
       "      <th>Type</th>\n",
       "      <th>Size</th>\n",
       "      <th>Temperature</th>\n",
       "      <th>Fuel_Price</th>\n",
       "      <th>MarkDown1</th>\n",
       "      <th>MarkDown2</th>\n",
       "      <th>MarkDown3</th>\n",
       "      <th>MarkDown4</th>\n",
       "      <th>MarkDown5</th>\n",
       "      <th>CPI</th>\n",
       "      <th>Unemployment</th>\n",
       "      <th>week</th>\n",
       "      <th>month</th>\n",
       "      <th>year</th>\n",
       "    </tr>\n",
       "  </thead>\n",
       "  <tbody>\n",
       "    <tr>\n",
       "      <th>86</th>\n",
       "      <td>2011-09-30</td>\n",
       "      <td>1.0</td>\n",
       "      <td>1.0</td>\n",
       "      <td>18337.68</td>\n",
       "      <td>False</td>\n",
       "      <td>A</td>\n",
       "      <td>151315.0</td>\n",
       "      <td>79.69</td>\n",
       "      <td>3.355</td>\n",
       "      <td>0.0</td>\n",
       "      <td>0.0</td>\n",
       "      <td>0.0</td>\n",
       "      <td>0.0</td>\n",
       "      <td>0.0</td>\n",
       "      <td>216.710597</td>\n",
       "      <td>7.962</td>\n",
       "      <td>39</td>\n",
       "      <td>9</td>\n",
       "      <td>2011</td>\n",
       "    </tr>\n",
       "    <tr>\n",
       "      <th>87</th>\n",
       "      <td>2011-10-07</td>\n",
       "      <td>1.0</td>\n",
       "      <td>1.0</td>\n",
       "      <td>20797.58</td>\n",
       "      <td>False</td>\n",
       "      <td>A</td>\n",
       "      <td>151315.0</td>\n",
       "      <td>69.31</td>\n",
       "      <td>3.285</td>\n",
       "      <td>0.0</td>\n",
       "      <td>0.0</td>\n",
       "      <td>0.0</td>\n",
       "      <td>0.0</td>\n",
       "      <td>0.0</td>\n",
       "      <td>217.045368</td>\n",
       "      <td>7.866</td>\n",
       "      <td>40</td>\n",
       "      <td>10</td>\n",
       "      <td>2011</td>\n",
       "    </tr>\n",
       "    <tr>\n",
       "      <th>88</th>\n",
       "      <td>2011-10-14</td>\n",
       "      <td>1.0</td>\n",
       "      <td>1.0</td>\n",
       "      <td>23077.55</td>\n",
       "      <td>False</td>\n",
       "      <td>A</td>\n",
       "      <td>151315.0</td>\n",
       "      <td>71.74</td>\n",
       "      <td>3.274</td>\n",
       "      <td>0.0</td>\n",
       "      <td>0.0</td>\n",
       "      <td>0.0</td>\n",
       "      <td>0.0</td>\n",
       "      <td>0.0</td>\n",
       "      <td>217.355273</td>\n",
       "      <td>7.866</td>\n",
       "      <td>41</td>\n",
       "      <td>10</td>\n",
       "      <td>2011</td>\n",
       "    </tr>\n",
       "    <tr>\n",
       "      <th>89</th>\n",
       "      <td>2011-10-21</td>\n",
       "      <td>1.0</td>\n",
       "      <td>1.0</td>\n",
       "      <td>23351.80</td>\n",
       "      <td>False</td>\n",
       "      <td>A</td>\n",
       "      <td>151315.0</td>\n",
       "      <td>63.71</td>\n",
       "      <td>3.353</td>\n",
       "      <td>0.0</td>\n",
       "      <td>0.0</td>\n",
       "      <td>0.0</td>\n",
       "      <td>0.0</td>\n",
       "      <td>0.0</td>\n",
       "      <td>217.515976</td>\n",
       "      <td>7.866</td>\n",
       "      <td>42</td>\n",
       "      <td>10</td>\n",
       "      <td>2011</td>\n",
       "    </tr>\n",
       "    <tr>\n",
       "      <th>90</th>\n",
       "      <td>2011-10-28</td>\n",
       "      <td>1.0</td>\n",
       "      <td>1.0</td>\n",
       "      <td>31579.90</td>\n",
       "      <td>False</td>\n",
       "      <td>A</td>\n",
       "      <td>151315.0</td>\n",
       "      <td>66.57</td>\n",
       "      <td>3.372</td>\n",
       "      <td>0.0</td>\n",
       "      <td>0.0</td>\n",
       "      <td>0.0</td>\n",
       "      <td>0.0</td>\n",
       "      <td>0.0</td>\n",
       "      <td>217.676679</td>\n",
       "      <td>7.866</td>\n",
       "      <td>43</td>\n",
       "      <td>10</td>\n",
       "      <td>2011</td>\n",
       "    </tr>\n",
       "  </tbody>\n",
       "</table>\n",
       "</div>"
      ],
      "text/plain": [
       "         Date  Store  Dept  Weekly_Sales IsHoliday Type      Size  \\\n",
       "86 2011-09-30    1.0   1.0      18337.68     False    A  151315.0   \n",
       "87 2011-10-07    1.0   1.0      20797.58     False    A  151315.0   \n",
       "88 2011-10-14    1.0   1.0      23077.55     False    A  151315.0   \n",
       "89 2011-10-21    1.0   1.0      23351.80     False    A  151315.0   \n",
       "90 2011-10-28    1.0   1.0      31579.90     False    A  151315.0   \n",
       "\n",
       "    Temperature  Fuel_Price  MarkDown1  MarkDown2  MarkDown3  MarkDown4  \\\n",
       "86        79.69       3.355        0.0        0.0        0.0        0.0   \n",
       "87        69.31       3.285        0.0        0.0        0.0        0.0   \n",
       "88        71.74       3.274        0.0        0.0        0.0        0.0   \n",
       "89        63.71       3.353        0.0        0.0        0.0        0.0   \n",
       "90        66.57       3.372        0.0        0.0        0.0        0.0   \n",
       "\n",
       "    MarkDown5         CPI  Unemployment  week  month  year  \n",
       "86        0.0  216.710597         7.962    39      9  2011  \n",
       "87        0.0  217.045368         7.866    40     10  2011  \n",
       "88        0.0  217.355273         7.866    41     10  2011  \n",
       "89        0.0  217.515976         7.866    42     10  2011  \n",
       "90        0.0  217.676679         7.866    43     10  2011  "
      ]
     },
     "execution_count": 40,
     "metadata": {},
     "output_type": "execute_result"
    }
   ],
   "source": [
    "df.head()"
   ]
  },
  {
   "cell_type": "code",
   "execution_count": 41,
   "id": "28a3940c",
   "metadata": {},
   "outputs": [],
   "source": [
    "df.to_csv(path+\"combined_data.csv\")"
   ]
  },
  {
   "cell_type": "code",
   "execution_count": 42,
   "id": "48d224b9",
   "metadata": {},
   "outputs": [],
   "source": [
    "#encoding the labelled data\n",
    "type_data = {'A':1, 'B': 2, 'C': 3}  # changing A,B,C to 1-2-3\n",
    "df['Type'] = df['Type'].replace(type_data)\n",
    "\n",
    "df['IsHoliday'] = df['IsHoliday'].astype(bool).astype(int) # changing T,F to 0-1"
   ]
  },
  {
   "cell_type": "code",
   "execution_count": 43,
   "id": "01d54f77",
   "metadata": {
    "scrolled": true
   },
   "outputs": [
    {
     "data": {
      "text/html": [
       "<div>\n",
       "<style scoped>\n",
       "    .dataframe tbody tr th:only-of-type {\n",
       "        vertical-align: middle;\n",
       "    }\n",
       "\n",
       "    .dataframe tbody tr th {\n",
       "        vertical-align: top;\n",
       "    }\n",
       "\n",
       "    .dataframe thead th {\n",
       "        text-align: right;\n",
       "    }\n",
       "</style>\n",
       "<table border=\"1\" class=\"dataframe\">\n",
       "  <thead>\n",
       "    <tr style=\"text-align: right;\">\n",
       "      <th></th>\n",
       "      <th>Date</th>\n",
       "      <th>Store</th>\n",
       "      <th>Dept</th>\n",
       "      <th>Weekly_Sales</th>\n",
       "      <th>IsHoliday</th>\n",
       "      <th>Type</th>\n",
       "      <th>Size</th>\n",
       "      <th>Temperature</th>\n",
       "      <th>Fuel_Price</th>\n",
       "      <th>MarkDown1</th>\n",
       "      <th>MarkDown2</th>\n",
       "      <th>MarkDown3</th>\n",
       "      <th>MarkDown4</th>\n",
       "      <th>MarkDown5</th>\n",
       "      <th>CPI</th>\n",
       "      <th>Unemployment</th>\n",
       "      <th>week</th>\n",
       "      <th>month</th>\n",
       "      <th>year</th>\n",
       "    </tr>\n",
       "  </thead>\n",
       "  <tbody>\n",
       "    <tr>\n",
       "      <th>86</th>\n",
       "      <td>2011-09-30</td>\n",
       "      <td>1.0</td>\n",
       "      <td>1.0</td>\n",
       "      <td>18337.68</td>\n",
       "      <td>0</td>\n",
       "      <td>1</td>\n",
       "      <td>151315.0</td>\n",
       "      <td>79.69</td>\n",
       "      <td>3.355</td>\n",
       "      <td>0.0</td>\n",
       "      <td>0.0</td>\n",
       "      <td>0.0</td>\n",
       "      <td>0.0</td>\n",
       "      <td>0.0</td>\n",
       "      <td>216.710597</td>\n",
       "      <td>7.962</td>\n",
       "      <td>39</td>\n",
       "      <td>9</td>\n",
       "      <td>2011</td>\n",
       "    </tr>\n",
       "    <tr>\n",
       "      <th>87</th>\n",
       "      <td>2011-10-07</td>\n",
       "      <td>1.0</td>\n",
       "      <td>1.0</td>\n",
       "      <td>20797.58</td>\n",
       "      <td>0</td>\n",
       "      <td>1</td>\n",
       "      <td>151315.0</td>\n",
       "      <td>69.31</td>\n",
       "      <td>3.285</td>\n",
       "      <td>0.0</td>\n",
       "      <td>0.0</td>\n",
       "      <td>0.0</td>\n",
       "      <td>0.0</td>\n",
       "      <td>0.0</td>\n",
       "      <td>217.045368</td>\n",
       "      <td>7.866</td>\n",
       "      <td>40</td>\n",
       "      <td>10</td>\n",
       "      <td>2011</td>\n",
       "    </tr>\n",
       "    <tr>\n",
       "      <th>88</th>\n",
       "      <td>2011-10-14</td>\n",
       "      <td>1.0</td>\n",
       "      <td>1.0</td>\n",
       "      <td>23077.55</td>\n",
       "      <td>0</td>\n",
       "      <td>1</td>\n",
       "      <td>151315.0</td>\n",
       "      <td>71.74</td>\n",
       "      <td>3.274</td>\n",
       "      <td>0.0</td>\n",
       "      <td>0.0</td>\n",
       "      <td>0.0</td>\n",
       "      <td>0.0</td>\n",
       "      <td>0.0</td>\n",
       "      <td>217.355273</td>\n",
       "      <td>7.866</td>\n",
       "      <td>41</td>\n",
       "      <td>10</td>\n",
       "      <td>2011</td>\n",
       "    </tr>\n",
       "    <tr>\n",
       "      <th>89</th>\n",
       "      <td>2011-10-21</td>\n",
       "      <td>1.0</td>\n",
       "      <td>1.0</td>\n",
       "      <td>23351.80</td>\n",
       "      <td>0</td>\n",
       "      <td>1</td>\n",
       "      <td>151315.0</td>\n",
       "      <td>63.71</td>\n",
       "      <td>3.353</td>\n",
       "      <td>0.0</td>\n",
       "      <td>0.0</td>\n",
       "      <td>0.0</td>\n",
       "      <td>0.0</td>\n",
       "      <td>0.0</td>\n",
       "      <td>217.515976</td>\n",
       "      <td>7.866</td>\n",
       "      <td>42</td>\n",
       "      <td>10</td>\n",
       "      <td>2011</td>\n",
       "    </tr>\n",
       "    <tr>\n",
       "      <th>90</th>\n",
       "      <td>2011-10-28</td>\n",
       "      <td>1.0</td>\n",
       "      <td>1.0</td>\n",
       "      <td>31579.90</td>\n",
       "      <td>0</td>\n",
       "      <td>1</td>\n",
       "      <td>151315.0</td>\n",
       "      <td>66.57</td>\n",
       "      <td>3.372</td>\n",
       "      <td>0.0</td>\n",
       "      <td>0.0</td>\n",
       "      <td>0.0</td>\n",
       "      <td>0.0</td>\n",
       "      <td>0.0</td>\n",
       "      <td>217.676679</td>\n",
       "      <td>7.866</td>\n",
       "      <td>43</td>\n",
       "      <td>10</td>\n",
       "      <td>2011</td>\n",
       "    </tr>\n",
       "  </tbody>\n",
       "</table>\n",
       "</div>"
      ],
      "text/plain": [
       "         Date  Store  Dept  Weekly_Sales  IsHoliday  Type      Size  \\\n",
       "86 2011-09-30    1.0   1.0      18337.68          0     1  151315.0   \n",
       "87 2011-10-07    1.0   1.0      20797.58          0     1  151315.0   \n",
       "88 2011-10-14    1.0   1.0      23077.55          0     1  151315.0   \n",
       "89 2011-10-21    1.0   1.0      23351.80          0     1  151315.0   \n",
       "90 2011-10-28    1.0   1.0      31579.90          0     1  151315.0   \n",
       "\n",
       "    Temperature  Fuel_Price  MarkDown1  MarkDown2  MarkDown3  MarkDown4  \\\n",
       "86        79.69       3.355        0.0        0.0        0.0        0.0   \n",
       "87        69.31       3.285        0.0        0.0        0.0        0.0   \n",
       "88        71.74       3.274        0.0        0.0        0.0        0.0   \n",
       "89        63.71       3.353        0.0        0.0        0.0        0.0   \n",
       "90        66.57       3.372        0.0        0.0        0.0        0.0   \n",
       "\n",
       "    MarkDown5         CPI  Unemployment  week  month  year  \n",
       "86        0.0  216.710597         7.962    39      9  2011  \n",
       "87        0.0  217.045368         7.866    40     10  2011  \n",
       "88        0.0  217.355273         7.866    41     10  2011  \n",
       "89        0.0  217.515976         7.866    42     10  2011  \n",
       "90        0.0  217.676679         7.866    43     10  2011  "
      ]
     },
     "execution_count": 43,
     "metadata": {},
     "output_type": "execute_result"
    }
   ],
   "source": [
    "df.head()"
   ]
  },
  {
   "cell_type": "code",
   "execution_count": 44,
   "id": "43d93746",
   "metadata": {},
   "outputs": [],
   "source": [
    "# creating cyclic features as time series feature\n",
    "def encode(data, col, max_val):\n",
    "    data[col + '_sin'] = np.sin(2 * np.pi * data[col]/max_val)\n",
    "    data[col + '_cos'] = np.cos(2 * np.pi * data[col]/max_val)\n",
    "    return data"
   ]
  },
  {
   "cell_type": "code",
   "execution_count": 45,
   "id": "a75048be",
   "metadata": {},
   "outputs": [],
   "source": [
    "df = encode(df, 'month', 12)\n",
    "df = encode(df, 'week', 52)"
   ]
  },
  {
   "cell_type": "code",
   "execution_count": 46,
   "id": "3564d8e0",
   "metadata": {},
   "outputs": [
    {
     "data": {
      "image/png": "[encoded data removed]",
      "text/plain": [
       "<Figure size 864x720 with 2 Axes>"
      ]
     },
     "metadata": {
      "needs_background": "light"
     },
     "output_type": "display_data"
    }
   ],
   "source": [
    "plt.figure(figsize = (12,10))\n",
    "sns.heatmap(df.corr().abs())    # To see the correlations\n",
    "plt.show()"
   ]
  },
  {
   "cell_type": "code",
   "execution_count": 47,
   "id": "b7f24f36",
   "metadata": {},
   "outputs": [],
   "source": [
    "drop_col = ['Temperature','MarkDown4','MarkDown5','CPI','Unemployment']\n",
    "df.drop(drop_col, axis=1, inplace=True) # dropping columns"
   ]
  },
  {
   "cell_type": "code",
   "execution_count": 48,
   "id": "eea90653",
   "metadata": {
    "scrolled": false
   },
   "outputs": [
    {
     "data": {
      "image/png": "[encoded data removed]",
      "text/plain": [
       "<Figure size 864x720 with 2 Axes>"
      ]
     },
     "metadata": {
      "needs_background": "light"
     },
     "output_type": "display_data"
    }
   ],
   "source": [
    "plt.figure(figsize = (12,10))\n",
    "sns.heatmap(df.corr().abs())    # To see the correlations\n",
    "plt.show()"
   ]
  },
  {
   "cell_type": "markdown",
   "id": "0ac6c4a6",
   "metadata": {},
   "source": [
    "#### Exploration and Finding\n",
    "##### 1) There are 45 stores and 81 department in data. Departments are not same in all stores. \n",
    "##### 2) CPI, temperature, unemployment rate and fuel price have no pattern on weekly sales.\n",
    "##### 3) Size and type are highly correlated with weekly sales. Also, department and store are correlated with sales.\n",
    "##### 4) Temperature, unemployment, CPI have no significant effect on weekly sales, so I will drop them. Also, Markdown 4 and 5 highly correlated with Markdown 1. So, I will drop them also. It can create multicollinearity problem, maybe.\n",
    "##### 5) There is a bit of seasonality and trend when looked into complete data but after extracting it for one year of data "
   ]
  },
  {
   "cell_type": "code",
   "execution_count": 49,
   "id": "37fc1943",
   "metadata": {},
   "outputs": [],
   "source": [
    "df_final = df.sort_values(by='Date', ascending=True)"
   ]
  },
  {
   "cell_type": "code",
   "execution_count": 50,
   "id": "3499ada1",
   "metadata": {
    "scrolled": true
   },
   "outputs": [
    {
     "data": {
      "text/plain": [
       "array([39, 40, 41, 42, 43, 44, 45, 46, 47, 48, 49, 50, 51, 52,  1,  2,  3,\n",
       "        4,  5,  6,  7,  8,  9, 10, 11, 12, 13, 14, 15, 16, 17, 18, 19, 20,\n",
       "       21, 22, 23, 24, 25, 26, 27, 28, 29, 30, 31, 32, 33, 34, 35, 36, 37,\n",
       "       38], dtype=int64)"
      ]
     },
     "execution_count": 50,
     "metadata": {},
     "output_type": "execute_result"
    }
   ],
   "source": [
    "df_final[\"week\"].unique()"
   ]
  },
  {
   "cell_type": "code",
   "execution_count": 51,
   "id": "15da0a5a",
   "metadata": {},
   "outputs": [],
   "source": [
    "df_final.to_csv(path+\"final_data.csv\",index=False)"
   ]
  },
  {
   "cell_type": "code",
   "execution_count": 52,
   "id": "4d57366d",
   "metadata": {},
   "outputs": [],
   "source": [
    "cols = [c for c in df_final.columns.to_list() if c not in ['Weekly_Sales',\"Date\",\"week\",\"month\"]]"
   ]
  },
  {
   "cell_type": "code",
   "execution_count": 53,
   "id": "bd4c104f",
   "metadata": {},
   "outputs": [],
   "source": [
    "x_train = df_final[df_final[\"Date\"]<=pd.to_datetime('2012-08-31')][cols]\n",
    "x_valid = df_final[(df_final[\"Date\"]>pd.to_datetime('2012-08-31') ) \n",
    "                   & (df_final[\"Date\"]<=pd.to_datetime('2012-10-26'))][cols]\n",
    "x_test = df_final[df_final[\"Date\"]>pd.to_datetime('2012-10-26')][cols]\n",
    "y_train = df_final[df_final[\"Date\"]<=pd.to_datetime('2012-08-31')][\"Weekly_Sales\"]\n",
    "y_valid = df_final[(df_final[\"Date\"]>pd.to_datetime('2012-08-31') ) \n",
    "                   & (df_final[\"Date\"]<=pd.to_datetime('2012-10-26'))][\"Weekly_Sales\"]"
   ]
  },
  {
   "cell_type": "code",
   "execution_count": 54,
   "id": "e0274968",
   "metadata": {},
   "outputs": [],
   "source": [
    "# defination of model building functions to improve code reuseability\n",
    "\n",
    "from sklearn.tree import DecisionTreeRegressor\n",
    "from sklearn.ensemble import RandomForestRegressor\n",
    "from sklearn.model_selection import RandomizedSearchCV\n",
    "def imp_features(df_final):\n",
    "    model = DecisionTreeRegressor()\n",
    "    model.fit(x_train,y_train)\n",
    "    impt_feat = model.feature_importances_\n",
    "    columns = df_final.columns\n",
    "    feat_df = pd.DataFrame({'Features':columns,'val':impt_feat})\n",
    "    feat_df.sort_values(by=[\"val\"],ascending=False,inplace=True)\n",
    "    return feat_df\n",
    "\n",
    "def valid(train,test,y_train,y_test):\n",
    "    model = RandomForestRegressor()\n",
    "    params={'n_estimators':[50,100,150,200,250,300],\n",
    "                  'max_depth': [2,3,4]}\n",
    "    rs = RandomizedSearchCV(model, params, n_jobs=-1)\n",
    "    rs_f=rs.fit(train,y_train)\n",
    "    return rs_f.best_params_\n",
    "    \n",
    "def rf_model(train,y,test,feat,params):\n",
    "    model = RandomForestRegressor(random_state=42,n_estimators=params[\"n_estimators\"]\n",
    "                                  ,max_depth=params[\"max_depth\"])\n",
    "    train = train[feat]\n",
    "    test = test[feat]\n",
    "    model.fit(train,y)\n",
    "    pred = model.predict(test)\n",
    "    return pred\n",
    "\n",
    "def esm(train,test):\n",
    "    try:\n",
    "        model_holt_winters = ExponentialSmoothing(train[\"Weekly_Sales\"], seasonal_periods=20, seasonal='additive',\n",
    "                                           trend='additive',damped=True).fit() #Taking additive trend and seasonality.\n",
    "        y_pred = model_holt_winters.forecast(len(test))# Predict the test data\n",
    "    except:\n",
    "        try:\n",
    "            model_holt_winters = ExponentialSmoothing(train[\"Weekly_Sales\"]).fit()\n",
    "            y_pred = model_holt_winters.forecast(len(test))# Predict the test data\n",
    "        except Exception as e:\n",
    "            y_pred = 0\n",
    "    \n",
    "    return y_pred\n",
    "    "
   ]
  },
  {
   "cell_type": "markdown",
   "id": "e6d115b2",
   "metadata": {},
   "source": [
    "#### Implementation of Machine Learning Algorithm for 1 year data"
   ]
  },
  {
   "cell_type": "code",
   "execution_count": 55,
   "id": "d6c25dfd",
   "metadata": {},
   "outputs": [],
   "source": [
    "params = valid(x_train,x_valid,y_train,y_valid)"
   ]
  },
  {
   "cell_type": "code",
   "execution_count": 56,
   "id": "933bf126",
   "metadata": {},
   "outputs": [
    {
     "data": {
      "text/plain": [
       "{'n_estimators': 250, 'max_depth': 4}"
      ]
     },
     "execution_count": 56,
     "metadata": {},
     "output_type": "execute_result"
    }
   ],
   "source": [
    "params"
   ]
  },
  {
   "cell_type": "code",
   "execution_count": 57,
   "id": "54164e8d",
   "metadata": {},
   "outputs": [],
   "source": [
    "feat = imp_features(x_train)\n",
    "feat.reset_index(inplace=True)"
   ]
  },
  {
   "cell_type": "code",
   "execution_count": 58,
   "id": "6f5d79f9",
   "metadata": {},
   "outputs": [
    {
     "data": {
      "text/html": [
       "<div>\n",
       "<style scoped>\n",
       "    .dataframe tbody tr th:only-of-type {\n",
       "        vertical-align: middle;\n",
       "    }\n",
       "\n",
       "    .dataframe tbody tr th {\n",
       "        vertical-align: top;\n",
       "    }\n",
       "\n",
       "    .dataframe thead th {\n",
       "        text-align: right;\n",
       "    }\n",
       "</style>\n",
       "<table border=\"1\" class=\"dataframe\">\n",
       "  <thead>\n",
       "    <tr style=\"text-align: right;\">\n",
       "      <th></th>\n",
       "      <th>index</th>\n",
       "      <th>Features</th>\n",
       "      <th>val</th>\n",
       "    </tr>\n",
       "  </thead>\n",
       "  <tbody>\n",
       "    <tr>\n",
       "      <th>0</th>\n",
       "      <td>1</td>\n",
       "      <td>Dept</td>\n",
       "      <td>0.636890</td>\n",
       "    </tr>\n",
       "    <tr>\n",
       "      <th>1</th>\n",
       "      <td>4</td>\n",
       "      <td>Size</td>\n",
       "      <td>0.184737</td>\n",
       "    </tr>\n",
       "    <tr>\n",
       "      <th>2</th>\n",
       "      <td>0</td>\n",
       "      <td>Store</td>\n",
       "      <td>0.070721</td>\n",
       "    </tr>\n",
       "    <tr>\n",
       "      <th>3</th>\n",
       "      <td>8</td>\n",
       "      <td>MarkDown3</td>\n",
       "      <td>0.043058</td>\n",
       "    </tr>\n",
       "    <tr>\n",
       "      <th>4</th>\n",
       "      <td>3</td>\n",
       "      <td>Type</td>\n",
       "      <td>0.017919</td>\n",
       "    </tr>\n",
       "    <tr>\n",
       "      <th>5</th>\n",
       "      <td>13</td>\n",
       "      <td>week_cos</td>\n",
       "      <td>0.013455</td>\n",
       "    </tr>\n",
       "    <tr>\n",
       "      <th>6</th>\n",
       "      <td>11</td>\n",
       "      <td>month_cos</td>\n",
       "      <td>0.007891</td>\n",
       "    </tr>\n",
       "    <tr>\n",
       "      <th>7</th>\n",
       "      <td>6</td>\n",
       "      <td>MarkDown1</td>\n",
       "      <td>0.006966</td>\n",
       "    </tr>\n",
       "    <tr>\n",
       "      <th>8</th>\n",
       "      <td>5</td>\n",
       "      <td>Fuel_Price</td>\n",
       "      <td>0.006884</td>\n",
       "    </tr>\n",
       "    <tr>\n",
       "      <th>9</th>\n",
       "      <td>7</td>\n",
       "      <td>MarkDown2</td>\n",
       "      <td>0.004755</td>\n",
       "    </tr>\n",
       "    <tr>\n",
       "      <th>10</th>\n",
       "      <td>12</td>\n",
       "      <td>week_sin</td>\n",
       "      <td>0.003983</td>\n",
       "    </tr>\n",
       "    <tr>\n",
       "      <th>11</th>\n",
       "      <td>10</td>\n",
       "      <td>month_sin</td>\n",
       "      <td>0.001619</td>\n",
       "    </tr>\n",
       "    <tr>\n",
       "      <th>12</th>\n",
       "      <td>9</td>\n",
       "      <td>year</td>\n",
       "      <td>0.000647</td>\n",
       "    </tr>\n",
       "    <tr>\n",
       "      <th>13</th>\n",
       "      <td>2</td>\n",
       "      <td>IsHoliday</td>\n",
       "      <td>0.000474</td>\n",
       "    </tr>\n",
       "  </tbody>\n",
       "</table>\n",
       "</div>"
      ],
      "text/plain": [
       "    index    Features       val\n",
       "0       1        Dept  0.636890\n",
       "1       4        Size  0.184737\n",
       "2       0       Store  0.070721\n",
       "3       8   MarkDown3  0.043058\n",
       "4       3        Type  0.017919\n",
       "5      13    week_cos  0.013455\n",
       "6      11   month_cos  0.007891\n",
       "7       6   MarkDown1  0.006966\n",
       "8       5  Fuel_Price  0.006884\n",
       "9       7   MarkDown2  0.004755\n",
       "10     12    week_sin  0.003983\n",
       "11     10   month_sin  0.001619\n",
       "12      9        year  0.000647\n",
       "13      2   IsHoliday  0.000474"
      ]
     },
     "execution_count": 58,
     "metadata": {},
     "output_type": "execute_result"
    }
   ],
   "source": [
    "feat"
   ]
  },
  {
   "cell_type": "code",
   "execution_count": 59,
   "id": "ce86889b",
   "metadata": {},
   "outputs": [],
   "source": [
    "# considering top 10 features only.\n",
    "pred_valid = rf_model(x_train,y_train,x_valid,list(feat[\"Features\"]),params)"
   ]
  },
  {
   "cell_type": "code",
   "execution_count": 60,
   "id": "42669632",
   "metadata": {},
   "outputs": [],
   "source": [
    "mape_ml_1yr = mean_absolute_percentage_error(y_valid,pred_valid)"
   ]
  },
  {
   "cell_type": "code",
   "execution_count": 61,
   "id": "ff951a9f",
   "metadata": {
    "scrolled": true
   },
   "outputs": [],
   "source": [
    "mae_ml_1yr = mean_absolute_error(y_valid,pred_valid)"
   ]
  },
  {
   "cell_type": "code",
   "execution_count": 62,
   "id": "0b938c53",
   "metadata": {},
   "outputs": [],
   "source": [
    "rmse_ml_1yr = sqrt(mean_squared_error(y_valid,pred_valid))"
   ]
  },
  {
   "cell_type": "code",
   "execution_count": 63,
   "id": "b74ee9fa",
   "metadata": {},
   "outputs": [],
   "source": [
    "x_ = df_final[df_final[\"Date\"]<=pd.to_datetime('2012-10-26')][cols]\n",
    "x_test = df_final[(df_final[\"Date\"]>pd.to_datetime('2012-10-26') ) \n",
    "                   & (df_final[\"Date\"]<=max_date)][cols]\n",
    "\n",
    "y_ = df_final[df_final[\"Date\"]<=pd.to_datetime('2012-10-26')][\"Weekly_Sales\"]\n"
   ]
  },
  {
   "cell_type": "code",
   "execution_count": 64,
   "id": "5a0226a5",
   "metadata": {},
   "outputs": [],
   "source": [
    "pred_valid = rf_model(x_,y_,x_test,list(feat[\"Features\"][:10]),params)"
   ]
  },
  {
   "cell_type": "code",
   "execution_count": 66,
   "id": "d1119ce1",
   "metadata": {},
   "outputs": [],
   "source": [
    "final_graph_train = x_.copy(deep=True)\n",
    "final_graph_train[\"Actual\"] = y_"
   ]
  },
  {
   "cell_type": "code",
   "execution_count": 67,
   "id": "5c2b4297",
   "metadata": {},
   "outputs": [],
   "source": [
    "x_test[\"pred\"] = pred_valid\n",
    "ml_pred = x_test.copy(deep=True)"
   ]
  },
  {
   "cell_type": "code",
   "execution_count": null,
   "id": "3daca566",
   "metadata": {},
   "outputs": [],
   "source": []
  },
  {
   "cell_type": "markdown",
   "id": "41880593",
   "metadata": {},
   "source": [
    "#### Implementation of Time Series Algorithm for 1 year data"
   ]
  },
  {
   "cell_type": "code",
   "execution_count": 68,
   "id": "8c43deac",
   "metadata": {},
   "outputs": [],
   "source": [
    "# time series implementation\n",
    "\n",
    "train_data_diff = df_final[df_final[\"Date\"]<=pd.to_datetime('2012-08-31')]\n",
    "#train_data_diff.set_index(['Date'],inplace=True)\n",
    "test_data_diff = df_final[(df_final[\"Date\"]>pd.to_datetime('2012-08-31') ) \n",
    "                   & (df_final[\"Date\"]<=pd.to_datetime('2012-10-26'))]\n",
    "train_data_diff.set_index(['Date'],inplace=True)"
   ]
  },
  {
   "cell_type": "code",
   "execution_count": 69,
   "id": "8d2d046d",
   "metadata": {},
   "outputs": [],
   "source": [
    "train_t = df_final[df_final[\"Date\"]<=pd.to_datetime('2012-08-31')]\n",
    "#train_data_diff.set_index(['Date'],inplace=True)\n",
    "test_t = df_final[(df_final[\"Date\"]>pd.to_datetime('2012-08-31') ) \n",
    "                   & (df_final[\"Date\"]<=pd.to_datetime('2012-10-26'))]\n",
    "\n",
    "train_t = train_t[[\"Date\",\"Store\",\"Dept\",\"Weekly_Sales\"]]\n",
    "test_t = test_t[[\"Date\",\"Store\",\"Dept\",\"Weekly_Sales\"]]\n"
   ]
  },
  {
   "cell_type": "code",
   "execution_count": 70,
   "id": "bfc6b1e3",
   "metadata": {},
   "outputs": [],
   "source": [
    "train_t[\"ID\"] = train_t[\"Store\"].astype(str)+\"-\"+train_t[\"Dept\"].astype(str)\n",
    "test_t[\"ID\"] = test_t[\"Store\"].astype(str)+\"-\"+test_t[\"Dept\"].astype(str)"
   ]
  },
  {
   "cell_type": "code",
   "execution_count": 71,
   "id": "70dbe108",
   "metadata": {},
   "outputs": [],
   "source": [
    "train_t.set_index(['Date'],inplace=True)\n",
    "test_t.set_index(['Date'],inplace=True)"
   ]
  },
  {
   "cell_type": "code",
   "execution_count": 72,
   "id": "cb72ec20",
   "metadata": {
    "scrolled": false
   },
   "outputs": [
    {
     "data": {
      "text/html": [
       "<div>\n",
       "<style scoped>\n",
       "    .dataframe tbody tr th:only-of-type {\n",
       "        vertical-align: middle;\n",
       "    }\n",
       "\n",
       "    .dataframe tbody tr th {\n",
       "        vertical-align: top;\n",
       "    }\n",
       "\n",
       "    .dataframe thead th {\n",
       "        text-align: right;\n",
       "    }\n",
       "</style>\n",
       "<table border=\"1\" class=\"dataframe\">\n",
       "  <thead>\n",
       "    <tr style=\"text-align: right;\">\n",
       "      <th></th>\n",
       "      <th>Store</th>\n",
       "      <th>Dept</th>\n",
       "      <th>Weekly_Sales</th>\n",
       "      <th>ID</th>\n",
       "    </tr>\n",
       "    <tr>\n",
       "      <th>Date</th>\n",
       "      <th></th>\n",
       "      <th></th>\n",
       "      <th></th>\n",
       "      <th></th>\n",
       "    </tr>\n",
       "  </thead>\n",
       "  <tbody>\n",
       "    <tr>\n",
       "      <th>2011-09-30</th>\n",
       "      <td>1.0</td>\n",
       "      <td>1.0</td>\n",
       "      <td>18337.68</td>\n",
       "      <td>1.0-1.0</td>\n",
       "    </tr>\n",
       "    <tr>\n",
       "      <th>2011-09-30</th>\n",
       "      <td>15.0</td>\n",
       "      <td>94.0</td>\n",
       "      <td>95.52</td>\n",
       "      <td>15.0-94.0</td>\n",
       "    </tr>\n",
       "    <tr>\n",
       "      <th>2011-09-30</th>\n",
       "      <td>15.0</td>\n",
       "      <td>93.0</td>\n",
       "      <td>294.58</td>\n",
       "      <td>15.0-93.0</td>\n",
       "    </tr>\n",
       "    <tr>\n",
       "      <th>2011-09-30</th>\n",
       "      <td>15.0</td>\n",
       "      <td>92.0</td>\n",
       "      <td>17077.45</td>\n",
       "      <td>15.0-92.0</td>\n",
       "    </tr>\n",
       "    <tr>\n",
       "      <th>2011-09-30</th>\n",
       "      <td>15.0</td>\n",
       "      <td>91.0</td>\n",
       "      <td>3419.08</td>\n",
       "      <td>15.0-91.0</td>\n",
       "    </tr>\n",
       "  </tbody>\n",
       "</table>\n",
       "</div>"
      ],
      "text/plain": [
       "            Store  Dept  Weekly_Sales         ID\n",
       "Date                                            \n",
       "2011-09-30    1.0   1.0      18337.68    1.0-1.0\n",
       "2011-09-30   15.0  94.0         95.52  15.0-94.0\n",
       "2011-09-30   15.0  93.0        294.58  15.0-93.0\n",
       "2011-09-30   15.0  92.0      17077.45  15.0-92.0\n",
       "2011-09-30   15.0  91.0       3419.08  15.0-91.0"
      ]
     },
     "execution_count": 72,
     "metadata": {},
     "output_type": "execute_result"
    }
   ],
   "source": [
    "train_t.head()"
   ]
  },
  {
   "cell_type": "code",
   "execution_count": 73,
   "id": "9ffa8de1",
   "metadata": {},
   "outputs": [
    {
     "data": {
      "text/plain": [
       "3235"
      ]
     },
     "execution_count": 73,
     "metadata": {},
     "output_type": "execute_result"
    }
   ],
   "source": [
    "train_t[\"ID\"].nunique()"
   ]
  },
  {
   "cell_type": "code",
   "execution_count": 74,
   "id": "392bc9ff",
   "metadata": {
    "scrolled": true
   },
   "outputs": [],
   "source": [
    "time_series_valid = pd.DataFrame()\n",
    "count = 0\n",
    "for i in train_t[\"ID\"].unique():\n",
    "    train_series = train_t[train_t[\"ID\"]==i]\n",
    "    test_series = test_t[test_t[\"ID\"]==i]\n",
    "    try:\n",
    "        test_series[\"pred\"] = esm(train_series,test_series)\n",
    "    except Exception as e:\n",
    "        count = count+1\n",
    "    final = pd.concat([train_series,test_series])\n",
    "    time_series_valid = pd.concat([time_series_valid,final])"
   ]
  },
  {
   "cell_type": "code",
   "execution_count": 75,
   "id": "bff6a4de",
   "metadata": {},
   "outputs": [],
   "source": [
    "time_series_valid.reset_index(inplace=True)\n",
    "time_series_valid[\"Date\"] = pd.to_datetime(time_series_valid[\"Date\"])"
   ]
  },
  {
   "cell_type": "code",
   "execution_count": 76,
   "id": "6daffab0",
   "metadata": {},
   "outputs": [],
   "source": [
    "metric_df = time_series_valid[(time_series_valid[\"Date\"]>pd.to_datetime('2012-08-31') ) \n",
    "                   & (time_series_valid[\"Date\"]<=pd.to_datetime('2012-10-26'))]"
   ]
  },
  {
   "cell_type": "code",
   "execution_count": 77,
   "id": "520392dd",
   "metadata": {},
   "outputs": [],
   "source": [
    "mae_ts_1yr = mean_absolute_error(metric_df[\"Weekly_Sales\"],metric_df[\"pred\"].fillna(0))"
   ]
  },
  {
   "cell_type": "code",
   "execution_count": 78,
   "id": "9d7c9fe7",
   "metadata": {},
   "outputs": [],
   "source": [
    "mape_ts_1yr = mean_absolute_percentage_error(metric_df[\"Weekly_Sales\"],metric_df[\"pred\"].fillna(0))"
   ]
  },
  {
   "cell_type": "code",
   "execution_count": 79,
   "id": "8cc9c025",
   "metadata": {},
   "outputs": [],
   "source": [
    "rmse_ts_1yr = sqrt(mean_squared_error(metric_df[\"Weekly_Sales\"],metric_df[\"pred\"].fillna(0)))"
   ]
  },
  {
   "cell_type": "code",
   "execution_count": 80,
   "id": "923a2c19",
   "metadata": {},
   "outputs": [],
   "source": [
    "train_t = df_final[df_final[\"Date\"]<=pd.to_datetime('2012-10-26')]\n",
    "#train_data_diff.set_index(['Date'],inplace=True)\n",
    "test_t = df_final[(df_final[\"Date\"]>pd.to_datetime('2012-10-26') ) \n",
    "                   & (df_final[\"Date\"]<=max_date)]\n",
    "\n",
    "train_t = train_t[[\"Date\",\"Store\",\"Dept\",\"Weekly_Sales\"]]\n",
    "test_t = test_t[[\"Date\",\"Store\",\"Dept\",\"Weekly_Sales\"]]\n",
    "\n",
    "train_t.set_index(['Date'],inplace=True)\n",
    "test_t.set_index(['Date'],inplace=True)"
   ]
  },
  {
   "cell_type": "code",
   "execution_count": 81,
   "id": "167848dd",
   "metadata": {},
   "outputs": [],
   "source": [
    "train_t[\"ID\"] = train_t[\"Store\"].astype(str)+\"-\"+train_t[\"Dept\"].astype(str)\n",
    "test_t[\"ID\"] = test_t[\"Store\"].astype(str)+\"-\"+test_t[\"Dept\"].astype(str)"
   ]
  },
  {
   "cell_type": "code",
   "execution_count": 82,
   "id": "936973d0",
   "metadata": {},
   "outputs": [
    {
     "data": {
      "text/html": [
       "<div>\n",
       "<style scoped>\n",
       "    .dataframe tbody tr th:only-of-type {\n",
       "        vertical-align: middle;\n",
       "    }\n",
       "\n",
       "    .dataframe tbody tr th {\n",
       "        vertical-align: top;\n",
       "    }\n",
       "\n",
       "    .dataframe thead th {\n",
       "        text-align: right;\n",
       "    }\n",
       "</style>\n",
       "<table border=\"1\" class=\"dataframe\">\n",
       "  <thead>\n",
       "    <tr style=\"text-align: right;\">\n",
       "      <th></th>\n",
       "      <th>Store</th>\n",
       "      <th>Dept</th>\n",
       "      <th>Weekly_Sales</th>\n",
       "      <th>ID</th>\n",
       "    </tr>\n",
       "    <tr>\n",
       "      <th>Date</th>\n",
       "      <th></th>\n",
       "      <th></th>\n",
       "      <th></th>\n",
       "      <th></th>\n",
       "    </tr>\n",
       "  </thead>\n",
       "  <tbody>\n",
       "    <tr>\n",
       "      <th>2012-11-02</th>\n",
       "      <td>32.0</td>\n",
       "      <td>26.0</td>\n",
       "      <td>0.0</td>\n",
       "      <td>32.0-26.0</td>\n",
       "    </tr>\n",
       "    <tr>\n",
       "      <th>2012-11-02</th>\n",
       "      <td>14.0</td>\n",
       "      <td>29.0</td>\n",
       "      <td>0.0</td>\n",
       "      <td>14.0-29.0</td>\n",
       "    </tr>\n",
       "    <tr>\n",
       "      <th>2012-11-02</th>\n",
       "      <td>12.0</td>\n",
       "      <td>81.0</td>\n",
       "      <td>0.0</td>\n",
       "      <td>12.0-81.0</td>\n",
       "    </tr>\n",
       "    <tr>\n",
       "      <th>2012-11-02</th>\n",
       "      <td>25.0</td>\n",
       "      <td>27.0</td>\n",
       "      <td>0.0</td>\n",
       "      <td>25.0-27.0</td>\n",
       "    </tr>\n",
       "    <tr>\n",
       "      <th>2012-11-02</th>\n",
       "      <td>9.0</td>\n",
       "      <td>27.0</td>\n",
       "      <td>0.0</td>\n",
       "      <td>9.0-27.0</td>\n",
       "    </tr>\n",
       "  </tbody>\n",
       "</table>\n",
       "</div>"
      ],
      "text/plain": [
       "            Store  Dept  Weekly_Sales         ID\n",
       "Date                                            \n",
       "2012-11-02   32.0  26.0           0.0  32.0-26.0\n",
       "2012-11-02   14.0  29.0           0.0  14.0-29.0\n",
       "2012-11-02   12.0  81.0           0.0  12.0-81.0\n",
       "2012-11-02   25.0  27.0           0.0  25.0-27.0\n",
       "2012-11-02    9.0  27.0           0.0   9.0-27.0"
      ]
     },
     "execution_count": 82,
     "metadata": {},
     "output_type": "execute_result"
    }
   ],
   "source": [
    "test_t.head()"
   ]
  },
  {
   "cell_type": "code",
   "execution_count": 83,
   "id": "4cd17fd2",
   "metadata": {},
   "outputs": [],
   "source": [
    "time_series_pred = pd.DataFrame()\n",
    "count = 0\n",
    "pred_series_1yr = pd.DataFrame()\n",
    "for i in train_t[\"ID\"].unique():\n",
    "    train_series = train_t[train_t[\"ID\"]==i]\n",
    "    test_series = test_t[test_t[\"ID\"]==i]\n",
    "    try:\n",
    "        test_series[\"pred\"] = esm(train_series,test_series)\n",
    "    except Exception as e:\n",
    "        count = count+1\n",
    "    final = pd.concat([train_series,test_series])\n",
    "    pred_series_1yr = pd.concat([pred_series_1yr,test_series])\n",
    "    time_series_pred = pd.concat([time_series_pred,final])"
   ]
  },
  {
   "cell_type": "code",
   "execution_count": 84,
   "id": "65aa6826",
   "metadata": {},
   "outputs": [],
   "source": [
    "time_series_pred.reset_index(inplace=True)"
   ]
  },
  {
   "cell_type": "code",
   "execution_count": 85,
   "id": "89c33000",
   "metadata": {},
   "outputs": [],
   "source": [
    "pred_series_1yr.reset_index(inplace=True)"
   ]
  },
  {
   "cell_type": "code",
   "execution_count": 86,
   "id": "9f3071de",
   "metadata": {},
   "outputs": [],
   "source": [
    "time_series_pred = time_series_pred[[\"Date\",\"Weekly_Sales\",\"pred\"]]"
   ]
  },
  {
   "cell_type": "code",
   "execution_count": 87,
   "id": "6e11f74b",
   "metadata": {},
   "outputs": [],
   "source": [
    "time_series_pred_gp = time_series_pred.groupby([\"Date\"]).agg({\"Weekly_Sales\":sum,\"pred\":sum})"
   ]
  },
  {
   "cell_type": "code",
   "execution_count": 88,
   "id": "ec888a86",
   "metadata": {},
   "outputs": [],
   "source": [
    "time_series_pred_gp.reset_index(inplace=True)"
   ]
  },
  {
   "cell_type": "code",
   "execution_count": 89,
   "id": "a7cad499",
   "metadata": {},
   "outputs": [],
   "source": [
    "time_series_pred.index = time_series_pred[\"Date\"]"
   ]
  },
  {
   "cell_type": "code",
   "execution_count": 90,
   "id": "59ee4bed",
   "metadata": {
    "scrolled": true
   },
   "outputs": [
    {
     "data": {
      "image/png": "[encoded data removed]",
      "text/plain": [
       "<Figure size 936x432 with 1 Axes>"
      ]
     },
     "metadata": {
      "needs_background": "light"
     },
     "output_type": "display_data"
    }
   ],
   "source": [
    "fig, ax = plt.subplots(figsize=(13, 6))\n",
    "ax.plot(time_series_pred_gp['Weekly_Sales'], color='blue',label='Weekly Sales')\n",
    "ax.plot(time_series_pred_gp[\"pred\"], color='red', label='ESM Pred')\n",
    "ax.legend()\n",
    "fig.tight_layout()\n"
   ]
  },
  {
   "cell_type": "code",
   "execution_count": null,
   "id": "31089846",
   "metadata": {},
   "outputs": [],
   "source": []
  },
  {
   "cell_type": "markdown",
   "id": "203da5d6",
   "metadata": {},
   "source": [
    "#### Implementation of Machine Learning Algorithm for 6 months data"
   ]
  },
  {
   "cell_type": "code",
   "execution_count": 92,
   "id": "571bf317",
   "metadata": {},
   "outputs": [],
   "source": [
    "#for 6 month data"
   ]
  },
  {
   "cell_type": "code",
   "execution_count": 93,
   "id": "07d3956d",
   "metadata": {},
   "outputs": [
    {
     "data": {
      "text/plain": [
       "Timestamp('2012-02-29 00:00:00')"
      ]
     },
     "execution_count": 93,
     "metadata": {},
     "output_type": "execute_result"
    }
   ],
   "source": [
    "from dateutil.relativedelta import relativedelta\n",
    "back_date = pd.to_datetime('2012-08-31') + relativedelta(months=-6)\n",
    "back_date"
   ]
  },
  {
   "cell_type": "code",
   "execution_count": 94,
   "id": "74bb8b87",
   "metadata": {},
   "outputs": [],
   "source": [
    "back_date = pd.to_datetime('2012-08-31') + relativedelta(months=-6)\n",
    "x_train_6m = df_final[(df_final[\"Date\"] > pd.to_datetime(\"2012-02-29\")) \n",
    "                      & (df_final[\"Date\"]<=pd.to_datetime('2012-08-31'))][cols]\n",
    "x_valid_6m = df_final[(df_final[\"Date\"]>pd.to_datetime('2012-08-31') ) \n",
    "                   & (df_final[\"Date\"]<=pd.to_datetime('2012-10-26'))][cols]\n",
    "x_test_6m = df_final[df_final[\"Date\"]>pd.to_datetime('2012-10-26')][cols]\n",
    "y_train_6m = df_final[(df_final[\"Date\"] > pd.to_datetime(\"2012-02-29\")) \n",
    "                      & (df_final[\"Date\"]<=pd.to_datetime('2012-08-31'))][\"Weekly_Sales\"]\n",
    "y_valid_6m = df_final[(df_final[\"Date\"]>pd.to_datetime('2012-08-31') ) \n",
    "                   & (df_final[\"Date\"]<=pd.to_datetime('2012-10-26'))][\"Weekly_Sales\"]"
   ]
  },
  {
   "cell_type": "code",
   "execution_count": 95,
   "id": "7b9e0f64",
   "metadata": {},
   "outputs": [],
   "source": [
    "params = valid(x_train_6m,x_valid_6m,y_train_6m,y_valid_6m)"
   ]
  },
  {
   "cell_type": "code",
   "execution_count": 96,
   "id": "1115fc6a",
   "metadata": {},
   "outputs": [
    {
     "data": {
      "text/plain": [
       "{'n_estimators': 300, 'max_depth': 4}"
      ]
     },
     "execution_count": 96,
     "metadata": {},
     "output_type": "execute_result"
    }
   ],
   "source": [
    "params"
   ]
  },
  {
   "cell_type": "code",
   "execution_count": 97,
   "id": "f6f09b02",
   "metadata": {},
   "outputs": [],
   "source": [
    "feat = imp_features(x_train)\n",
    "feat.reset_index(inplace=True)"
   ]
  },
  {
   "cell_type": "code",
   "execution_count": 98,
   "id": "3d924474",
   "metadata": {},
   "outputs": [],
   "source": [
    "pred_valid = rf_model(x_train_6m,y_train_6m,x_valid_6m,list(feat[\"Features\"][:10]),params)"
   ]
  },
  {
   "cell_type": "code",
   "execution_count": 99,
   "id": "ca34163d",
   "metadata": {},
   "outputs": [],
   "source": [
    "mape_ml_6m = mean_absolute_percentage_error(y_valid_6m,pred_valid)"
   ]
  },
  {
   "cell_type": "code",
   "execution_count": 100,
   "id": "71f82742",
   "metadata": {},
   "outputs": [],
   "source": [
    "mae_ml_6m = mean_absolute_error(y_valid_6m,pred_valid)"
   ]
  },
  {
   "cell_type": "code",
   "execution_count": 101,
   "id": "5b94ba69",
   "metadata": {},
   "outputs": [],
   "source": [
    "rmse_ml_6m = sqrt(mean_squared_error(y_valid,pred_valid))"
   ]
  },
  {
   "cell_type": "code",
   "execution_count": 102,
   "id": "f35e3b74",
   "metadata": {},
   "outputs": [],
   "source": [
    "x_6m = df_final[(df_final[\"Date\"]>pd.to_datetime('2012-02-29') ) \n",
    "                   & (df_final[\"Date\"]<=pd.to_datetime('2012-10-26'))][cols]\n",
    "x_test_6m = df_final[df_final[\"Date\"]>pd.to_datetime('2012-10-26')][cols]\n",
    "\n",
    "y_6m = df_final[(df_final[\"Date\"]>pd.to_datetime('2012-02-29') ) \n",
    "                   & (df_final[\"Date\"]<=pd.to_datetime('2012-10-26'))][\"Weekly_Sales\"]\n",
    "\n",
    "\n"
   ]
  },
  {
   "cell_type": "code",
   "execution_count": 103,
   "id": "99f4f767",
   "metadata": {},
   "outputs": [],
   "source": [
    "pred_valid = rf_model(x_6m,y_6m,x_test_6m,list(feat[\"Features\"][:10]),params)\n",
    "\n",
    "# done with 6m weekly forecast"
   ]
  },
  {
   "cell_type": "code",
   "execution_count": 104,
   "id": "7c82ae4d",
   "metadata": {},
   "outputs": [],
   "source": [
    "ml_pred_6m = x_test.copy(deep=True)\n",
    "ml_pred_6m[\"pred\"] = pred_valid\n"
   ]
  },
  {
   "cell_type": "markdown",
   "id": "8bc5f999",
   "metadata": {},
   "source": [
    "#### Implementation of Time Series Algorithm for 6 months data"
   ]
  },
  {
   "cell_type": "code",
   "execution_count": 105,
   "id": "cf2a8347",
   "metadata": {},
   "outputs": [],
   "source": [
    "train_t_6m = df_final[(df_final[\"Date\"] > pd.to_datetime(\"2012-02-29\")) \n",
    "                      & (df_final[\"Date\"]<=pd.to_datetime('2012-08-31'))]\n",
    "test_t_6m = df_final[(df_final[\"Date\"]>pd.to_datetime('2012-08-31') ) \n",
    "                   & (df_final[\"Date\"]<=pd.to_datetime('2012-10-26'))]\n",
    "\n",
    "train_t_6m = train_t_6m[[\"Date\",\"Store\",\"Dept\",\"Weekly_Sales\"]]\n",
    "test_t_6m = test_t_6m[[\"Date\",\"Store\",\"Dept\",\"Weekly_Sales\"]]\n"
   ]
  },
  {
   "cell_type": "code",
   "execution_count": 106,
   "id": "df368376",
   "metadata": {},
   "outputs": [],
   "source": [
    "train_t_6m.set_index(['Date'],inplace=True)\n",
    "test_t_6m.set_index(['Date'],inplace=True)"
   ]
  },
  {
   "cell_type": "code",
   "execution_count": 107,
   "id": "7f9e1f4f",
   "metadata": {},
   "outputs": [],
   "source": [
    "train_t_6m[\"ID\"] = train_t_6m[\"Store\"].astype(str)+\"-\"+train_t_6m[\"Dept\"].astype(str)\n",
    "test_t_6m[\"ID\"] = test_t_6m[\"Store\"].astype(str)+\"-\"+test_t_6m[\"Dept\"].astype(str)"
   ]
  },
  {
   "cell_type": "code",
   "execution_count": 108,
   "id": "f46c8306",
   "metadata": {},
   "outputs": [],
   "source": [
    "time_series_valid_6m = pd.DataFrame()\n",
    "count = 0\n",
    "for i in train_t_6m[\"ID\"].unique():\n",
    "    train_series = train_t_6m[train_t_6m[\"ID\"]==i]\n",
    "    test_series = test_t_6m[test_t_6m[\"ID\"]==i]\n",
    "    try:\n",
    "        test_series[\"pred\"] = esm(train_series,test_series)\n",
    "    except Exception as e:\n",
    "        count = count+1\n",
    "    final = pd.concat([train_series,test_series])\n",
    "    time_series_valid_6m = pd.concat([time_series_valid_6m,final])"
   ]
  },
  {
   "cell_type": "code",
   "execution_count": 109,
   "id": "85d58366",
   "metadata": {},
   "outputs": [],
   "source": [
    "time_series_valid_6m.reset_index(inplace=True)\n",
    "time_series_valid_6m[\"Date\"] = pd.to_datetime(time_series_valid_6m[\"Date\"])"
   ]
  },
  {
   "cell_type": "code",
   "execution_count": 110,
   "id": "cbcc4c61",
   "metadata": {},
   "outputs": [],
   "source": [
    "metric_df_6m = time_series_valid_6m[(time_series_valid_6m[\"Date\"]>pd.to_datetime('2012-08-31') ) \n",
    "                   & (time_series_valid_6m[\"Date\"]<=pd.to_datetime('2012-10-26'))]"
   ]
  },
  {
   "cell_type": "code",
   "execution_count": 111,
   "id": "900b9d3c",
   "metadata": {},
   "outputs": [],
   "source": [
    "mae_ts_6m = mean_absolute_error(metric_df_6m[\"Weekly_Sales\"],metric_df_6m[\"pred\"].fillna(0))"
   ]
  },
  {
   "cell_type": "code",
   "execution_count": 112,
   "id": "1281fb6f",
   "metadata": {},
   "outputs": [],
   "source": [
    "mape_ts_6m = mean_absolute_percentage_error(metric_df_6m[\"Weekly_Sales\"],metric_df_6m[\"pred\"].fillna(0))"
   ]
  },
  {
   "cell_type": "code",
   "execution_count": 113,
   "id": "86cdbfaf",
   "metadata": {},
   "outputs": [],
   "source": [
    "rmse_ts_6m = sqrt(mean_squared_error(metric_df_6m[\"Weekly_Sales\"],metric_df_6m[\"pred\"].fillna(0)))"
   ]
  },
  {
   "cell_type": "code",
   "execution_count": 114,
   "id": "3ed22488",
   "metadata": {},
   "outputs": [],
   "source": [
    "train_t_6m = df_final[(df_final[\"Date\"]>pd.to_datetime('2012-08-31')) \n",
    "                       & (df_final[\"Date\"]<=pd.to_datetime('2012-10-26'))]\n",
    "#train_data_diff.set_index(['Date'],inplace=True)\n",
    "test_t_6m = df_final[(df_final[\"Date\"]>pd.to_datetime('2012-10-26') ) \n",
    "                   & (df_final[\"Date\"]<=max_date)]\n",
    "\n",
    "train_t_6m = train_t_6m[[\"Date\",\"Store\",\"Dept\",\"Weekly_Sales\"]]\n",
    "test_t_6m = test_t_6m[[\"Date\",\"Store\",\"Dept\",\"Weekly_Sales\"]]\n",
    "\n",
    "train_t_6m.set_index(['Date'],inplace=True)\n",
    "test_t_6m.set_index(['Date'],inplace=True)"
   ]
  },
  {
   "cell_type": "code",
   "execution_count": 115,
   "id": "7d78e867",
   "metadata": {},
   "outputs": [],
   "source": [
    "train_t_6m[\"ID\"] = train_t_6m[\"Store\"].astype(str)+\"-\"+train_t_6m[\"Dept\"].astype(str)\n",
    "test_t_6m[\"ID\"] = test_t_6m[\"Store\"].astype(str)+\"-\"+test_t_6m[\"Dept\"].astype(str)"
   ]
  },
  {
   "cell_type": "code",
   "execution_count": 116,
   "id": "0b1e2aa8",
   "metadata": {},
   "outputs": [],
   "source": [
    "time_series_pred_6m = pd.DataFrame()\n",
    "count = 0\n",
    "pred_series_6m = pd.DataFrame()\n",
    "for i in train_t_6m[\"ID\"].unique():\n",
    "    train_series = train_t_6m[train_t_6m[\"ID\"]==i]\n",
    "    test_series = test_t_6m[test_t_6m[\"ID\"]==i]\n",
    "    try:\n",
    "        test_series[\"pred\"] = esm(train_series,test_series)\n",
    "    except Exception as e:\n",
    "        print(e)\n",
    "        count = count+1\n",
    "    pred_series_6m = pd.concat([pred_series_6m,test_series])\n",
    "    final = pd.concat([train_series,test_series])\n",
    "    time_series_pred_6m = pd.concat([time_series_pred_6m,final])"
   ]
  },
  {
   "cell_type": "code",
   "execution_count": 117,
   "id": "8328b30c",
   "metadata": {},
   "outputs": [],
   "source": [
    "time_series_pred_6m.reset_index(inplace=True)\n",
    "time_series_pred_6m = time_series_pred_6m[[\"Date\",\"Weekly_Sales\",\"pred\"]]"
   ]
  },
  {
   "cell_type": "code",
   "execution_count": 118,
   "id": "f3fd765c",
   "metadata": {},
   "outputs": [
    {
     "data": {
      "text/html": [
       "<div>\n",
       "<style scoped>\n",
       "    .dataframe tbody tr th:only-of-type {\n",
       "        vertical-align: middle;\n",
       "    }\n",
       "\n",
       "    .dataframe tbody tr th {\n",
       "        vertical-align: top;\n",
       "    }\n",
       "\n",
       "    .dataframe thead th {\n",
       "        text-align: right;\n",
       "    }\n",
       "</style>\n",
       "<table border=\"1\" class=\"dataframe\">\n",
       "  <thead>\n",
       "    <tr style=\"text-align: right;\">\n",
       "      <th></th>\n",
       "      <th>Store</th>\n",
       "      <th>Dept</th>\n",
       "      <th>Weekly_Sales</th>\n",
       "      <th>ID</th>\n",
       "      <th>pred</th>\n",
       "    </tr>\n",
       "    <tr>\n",
       "      <th>Date</th>\n",
       "      <th></th>\n",
       "      <th></th>\n",
       "      <th></th>\n",
       "      <th></th>\n",
       "      <th></th>\n",
       "    </tr>\n",
       "  </thead>\n",
       "  <tbody>\n",
       "    <tr>\n",
       "      <th>2012-11-02</th>\n",
       "      <td>25.0</td>\n",
       "      <td>52.0</td>\n",
       "      <td>0.0</td>\n",
       "      <td>25.0-52.0</td>\n",
       "      <td>1480.21319</td>\n",
       "    </tr>\n",
       "    <tr>\n",
       "      <th>2012-11-09</th>\n",
       "      <td>25.0</td>\n",
       "      <td>52.0</td>\n",
       "      <td>0.0</td>\n",
       "      <td>25.0-52.0</td>\n",
       "      <td>1480.21319</td>\n",
       "    </tr>\n",
       "    <tr>\n",
       "      <th>2012-11-16</th>\n",
       "      <td>25.0</td>\n",
       "      <td>52.0</td>\n",
       "      <td>0.0</td>\n",
       "      <td>25.0-52.0</td>\n",
       "      <td>1480.21319</td>\n",
       "    </tr>\n",
       "    <tr>\n",
       "      <th>2012-11-23</th>\n",
       "      <td>25.0</td>\n",
       "      <td>52.0</td>\n",
       "      <td>0.0</td>\n",
       "      <td>25.0-52.0</td>\n",
       "      <td>1480.21319</td>\n",
       "    </tr>\n",
       "    <tr>\n",
       "      <th>2012-11-30</th>\n",
       "      <td>25.0</td>\n",
       "      <td>52.0</td>\n",
       "      <td>0.0</td>\n",
       "      <td>25.0-52.0</td>\n",
       "      <td>1480.21319</td>\n",
       "    </tr>\n",
       "  </tbody>\n",
       "</table>\n",
       "</div>"
      ],
      "text/plain": [
       "            Store  Dept  Weekly_Sales         ID        pred\n",
       "Date                                                        \n",
       "2012-11-02   25.0  52.0           0.0  25.0-52.0  1480.21319\n",
       "2012-11-09   25.0  52.0           0.0  25.0-52.0  1480.21319\n",
       "2012-11-16   25.0  52.0           0.0  25.0-52.0  1480.21319\n",
       "2012-11-23   25.0  52.0           0.0  25.0-52.0  1480.21319\n",
       "2012-11-30   25.0  52.0           0.0  25.0-52.0  1480.21319"
      ]
     },
     "execution_count": 118,
     "metadata": {},
     "output_type": "execute_result"
    }
   ],
   "source": [
    "pred_series_6m.head()"
   ]
  },
  {
   "cell_type": "code",
   "execution_count": 119,
   "id": "1f68c506",
   "metadata": {},
   "outputs": [],
   "source": [
    "time_series_pred_gp = time_series_pred_6m.groupby([\"Date\"]).agg({\"Weekly_Sales\":sum,\"pred\":sum})\n",
    "time_series_pred_gp.reset_index(inplace=True)"
   ]
  },
  {
   "cell_type": "code",
   "execution_count": 120,
   "id": "06c90961",
   "metadata": {},
   "outputs": [],
   "source": [
    "time_series_pred_gp.index = time_series_pred_gp[\"Date\"]"
   ]
  },
  {
   "cell_type": "markdown",
   "id": "da7cee97",
   "metadata": {},
   "source": [
    "#### Summary of Model Output for 1year and 6month data\n"
   ]
  },
  {
   "cell_type": "code",
   "execution_count": 126,
   "id": "885141b8",
   "metadata": {},
   "outputs": [
    {
     "data": {
      "text/plain": [
       "37446568302365400"
      ]
     },
     "execution_count": 126,
     "metadata": {},
     "output_type": "execute_result"
    }
   ],
   "source": [
    "int(mape_ml_1yr)"
   ]
  },
  {
   "cell_type": "code",
   "execution_count": 131,
   "id": "84f7cf6d",
   "metadata": {
    "scrolled": true
   },
   "outputs": [
    {
     "name": "stdout",
     "output_type": "stream",
     "text": [
      "+----------------------------+-----------------------+\n",
      "|         Algorithm          |          MAPE         |\n",
      "+----------------------------+-----------------------+\n",
      "|       ML - 1yr data        |  3.74465683023654e+16 |\n",
      "|   Time Series - 1yr data   |   0.5690869318314249  |\n",
      "|     ML - 6months data      | 2.213051515125181e+16 |\n",
      "| Time Series - 6months data |  0.29401809322463346  |\n",
      "+----------------------------+-----------------------+\n"
     ]
    }
   ],
   "source": [
    "from prettytable import PrettyTable\n",
    "x = PrettyTable()\n",
    "\n",
    "x.field_names = [\"Algorithm\",\"MAPE\"]\n",
    "x.add_rows(\n",
    "    [\n",
    "        [\"ML - 1yr data\",mape_ml_1yr],\n",
    "        [\"Time Series - 1yr data\",mape_ts_1yr],\n",
    "        [\"ML - 6months data\",mape_ml_6m],\n",
    "        [\"Time Series - 6months data\",mape_ts_6m]\n",
    "    ]\n",
    ")\n",
    "print(x)"
   ]
  },
  {
   "cell_type": "markdown",
   "id": "0e33047f",
   "metadata": {},
   "source": [
    "##### Exponential smoothing outperforms the ML algorithm significantly. This could be attributed to the ML algorithm's utilization of fewer data features, along with the use of either 1-year or 6-months duration data."
   ]
  },
  {
   "cell_type": "code",
   "execution_count": 162,
   "id": "d3a38da6",
   "metadata": {},
   "outputs": [],
   "source": [
    "final_graph_train = df_final[df_final[\"Date\"]<=pd.to_datetime('2012-10-26')]\n",
    "final_graph_train = final_graph_train[[\"Date\",\"Store\",\"Dept\",\"Weekly_Sales\"]]\n",
    "final_graph_train = final_graph_train.groupby([\"Date\"]).agg({\"Weekly_Sales\":sum})\n",
    "#final_graph_train.reset_index(inplace=True)\n",
    "\n",
    "x_test_ml_1yr = df_final[(df_final[\"Date\"]>pd.to_datetime('2012-10-26') ) \n",
    "                   & (df_final[\"Date\"]<=max_date)]\n",
    "x_test_ml_1yr[\"ML Prediction one year\"] = ml_pred[\"pred\"]\n",
    "x_test_ml_1yr = x_test_ml_1yr[[\"Date\",\"Store\",\"Dept\",\"ML Prediction one year\"]]\n",
    "x_test_ml_1yr = x_test_ml_1yr.groupby([\"Date\"]).agg({\"ML Prediction one year\":sum})\n",
    "#x_test_ml_1yr.reset_index(inplace=True)\n",
    "\n",
    "x_test_ml_6mon = df_final[(df_final[\"Date\"]>pd.to_datetime('2012-10-26') ) \n",
    "                   & (df_final[\"Date\"]<=max_date)]\n",
    "x_test_ml_6mon[\"ML Prediction 6months\"] = ml_pred_6m[\"pred\"]\n",
    "x_test_ml_6mon = x_test_ml_6mon[[\"Date\",\"Store\",\"Dept\",\"ML Prediction 6months\"]]\n",
    "x_test_ml_6mon = x_test_ml_6mon.groupby([\"Date\"]).agg({\"ML Prediction 6months\":sum})\n",
    "#x_test_ml_6mon.reset_index(inplace=True)\n",
    "\n",
    "pred_series_1yr.rename(columns={\"pred\":\"Time Series 1year\"},inplace=True)\n",
    "pred_series_1yr = pred_series_1yr[[\"Date\",\"Store\",\"Dept\",\"Time Series 1year\"]]\n",
    "pred_series_1yr = pred_series_1yr.groupby([\"Date\"]).agg({\"Time Series 1year\":sum})\n",
    "#pred_series_1yr.reset_index(inplace=True)\n",
    "\n",
    "pred_series_6m.reset_index(inplace=True)\n",
    "pred_series_6m.rename(columns={\"pred\":\"Time Series 6mon\"},inplace=True)\n",
    "pred_series_6m = pred_series_6m[[\"Date\",\"Store\",\"Dept\",\"Time Series 6mon\"]]\n",
    "pred_series_6m = pred_series_6m.groupby([\"Date\"]).agg({\"Time Series 6mon\":sum})\n",
    "#pred_series_6m.reset_index(inplace=True)\n"
   ]
  },
  {
   "cell_type": "code",
   "execution_count": 164,
   "id": "578b37f0",
   "metadata": {
    "scrolled": true
   },
   "outputs": [
    {
     "data": {
      "text/html": [
       "<div>\n",
       "<style scoped>\n",
       "    .dataframe tbody tr th:only-of-type {\n",
       "        vertical-align: middle;\n",
       "    }\n",
       "\n",
       "    .dataframe tbody tr th {\n",
       "        vertical-align: top;\n",
       "    }\n",
       "\n",
       "    .dataframe thead th {\n",
       "        text-align: right;\n",
       "    }\n",
       "</style>\n",
       "<table border=\"1\" class=\"dataframe\">\n",
       "  <thead>\n",
       "    <tr style=\"text-align: right;\">\n",
       "      <th></th>\n",
       "      <th>Date</th>\n",
       "      <th>Time Series 6mon</th>\n",
       "    </tr>\n",
       "    <tr>\n",
       "      <th>Date</th>\n",
       "      <th></th>\n",
       "      <th></th>\n",
       "    </tr>\n",
       "  </thead>\n",
       "  <tbody>\n",
       "    <tr>\n",
       "      <th>2012-11-02</th>\n",
       "      <td>2012-11-02</td>\n",
       "      <td>4.586872e+07</td>\n",
       "    </tr>\n",
       "    <tr>\n",
       "      <th>2012-11-09</th>\n",
       "      <td>2012-11-09</td>\n",
       "      <td>4.586630e+07</td>\n",
       "    </tr>\n",
       "    <tr>\n",
       "      <th>2012-11-16</th>\n",
       "      <td>2012-11-16</td>\n",
       "      <td>4.585877e+07</td>\n",
       "    </tr>\n",
       "    <tr>\n",
       "      <th>2012-11-23</th>\n",
       "      <td>2012-11-23</td>\n",
       "      <td>4.585481e+07</td>\n",
       "    </tr>\n",
       "    <tr>\n",
       "      <th>2012-11-30</th>\n",
       "      <td>2012-11-30</td>\n",
       "      <td>4.585516e+07</td>\n",
       "    </tr>\n",
       "  </tbody>\n",
       "</table>\n",
       "</div>"
      ],
      "text/plain": [
       "                 Date  Time Series 6mon\n",
       "Date                                   \n",
       "2012-11-02 2012-11-02      4.586872e+07\n",
       "2012-11-09 2012-11-09      4.586630e+07\n",
       "2012-11-16 2012-11-16      4.585877e+07\n",
       "2012-11-23 2012-11-23      4.585481e+07\n",
       "2012-11-30 2012-11-30      4.585516e+07"
      ]
     },
     "execution_count": 164,
     "metadata": {},
     "output_type": "execute_result"
    }
   ],
   "source": [
    "pred_series_1yr.index = pred_series_1yr[\"Date\"]\n",
    "pred_series_6m.index = pred_series_6m[\"Date\"]"
   ]
  },
  {
   "cell_type": "markdown",
   "id": "2672f197",
   "metadata": {},
   "source": [
    "### Plot for comparison of forecacst"
   ]
  },
  {
   "cell_type": "code",
   "execution_count": 166,
   "id": "059f523b",
   "metadata": {},
   "outputs": [
    {
     "data": {
      "image/png": "[encoded data removed]",
      "text/plain": [
       "<Figure size 936x432 with 1 Axes>"
      ]
     },
     "metadata": {
      "needs_background": "light"
     },
     "output_type": "display_data"
    }
   ],
   "source": [
    "fig, ax = plt.subplots(figsize=(13, 6))\n",
    "ax.plot(final_graph_train['Weekly_Sales'], color='blue',label='Weekly Sales')\n",
    "ax.plot(x_test_ml_1yr[\"ML Prediction one year\"], color='red', label='ML 1year')\n",
    "ax.plot(x_test_ml_6mon[\"ML Prediction 6months\"], color='green', label='ML 6mon')\n",
    "ax.plot(pred_series_1yr[\"Time Series 1year\"], color='yellow', label='ESM 1year')\n",
    "ax.plot(pred_series_6m[\"Time Series 6mon\"], color='black', label='ESM 6mon')\n",
    "ax.legend()\n",
    "fig.tight_layout()\n"
   ]
  },
  {
   "cell_type": "markdown",
   "id": "6b4c93b0",
   "metadata": {},
   "source": [
    "#### The forecast observations are as follows:\n",
    "#### 1) The machine learning (ML) model, when trained on both 1-year and 6-months data along with ESM 6-months data, shows an almost flat line in its forecasts. It struggles to capture the underlying trend or seasonality.\n",
    "#### 2)On the other hand, the ESM model, trained solely on 1-year data, produces lower forecasts compared to other models. However, it has managed to capture some aspects of seasonality and trend.\n",
    "#### 3)The ESM model trained on 6-months data demonstrates the lowest MAPE value, but it fails to capture the seasonality. In contrast, the ESM model trained on 1-year data performs the second best and successfully captures the seasonality and trend of the data.\n",
    "#### 4)Incorporating more features, such as decomposing the data to capture seasonality and trend, could lead to an improvement in the output of the ML model.\n",
    "\n",
    "#### Overall, using the ESM model with 1-year data is recommended, as it yields better forecast results compared to other models in the process."
   ]
  },
  {
   "cell_type": "code",
   "execution_count": null,
   "id": "26c89f42",
   "metadata": {},
   "outputs": [],
   "source": []
  }
 ],
 "metadata": {
  "kernelspec": {
   "display_name": "Python 3",
   "language": "python",
   "name": "python3"
  },
  "language_info": {
   "codemirror_mode": {
    "name": "ipython",
    "version": 3
   },
   "file_extension": ".py",
   "mimetype": "text/x-python",
   "name": "python",
   "nbconvert_exporter": "python",
   "pygments_lexer": "ipython3",
   "version": "3.8.8"
  }
 },
 "nbformat": 4,
 "nbformat_minor": 5
}
